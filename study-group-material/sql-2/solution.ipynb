{
 "cells": [
  {
   "cell_type": "markdown",
   "metadata": {},
   "source": [
    "# SQL Practice\n",
    "This notebook contains exercises for SQL fundamentals. \n",
    "\n",
    "The `Chinook_Sqlite.sqlite` and `Northwind.sqlite` databases are stored in the `data` folder of this repository. "
   ]
  },
  {
   "cell_type": "markdown",
   "metadata": {},
   "source": [
    "### Entity Relationship Diagrams"
   ]
  },
  {
   "cell_type": "markdown",
   "metadata": {},
   "source": [
    "#### Northwind ERD"
   ]
  },
  {
   "cell_type": "markdown",
   "metadata": {},
   "source": [
    "![](Northwind_ERD.png)    "
   ]
  },
  {
   "cell_type": "markdown",
   "metadata": {
    "heading_collapsed": true
   },
   "source": [
    "#### Chinook ERD"
   ]
  },
  {
   "cell_type": "markdown",
   "metadata": {
    "hidden": true
   },
   "source": [
    "![](Chinook_ERD.jpg)"
   ]
  },
  {
   "cell_type": "markdown",
   "metadata": {},
   "source": [
    "#### Note\n",
    ">The table names in the ERD do not perfectly match the table names in the database. You can use the sql query `SELECT name FROM sqlite_master WHERE type='table';` to see the names of the tables.\n",
    "\n",
    "Below we open up a connection to each database."
   ]
  },
  {
   "cell_type": "code",
   "execution_count": 1,
   "metadata": {
    "ExecuteTime": {
     "end_time": "2021-02-10T22:52:45.142290Z",
     "start_time": "2021-02-10T22:52:45.136961Z"
    }
   },
   "outputs": [],
   "source": [
    "import sqlite3\n",
    "import os\n",
    "\n",
    "chinook_path = os.path.join(os.pardir, os.pardir, 'data', 'Chinook_Sqlite.sqlite')\n",
    "chinook_connection = sqlite3.connect(chinook_path)\n",
    "\n",
    "northwind_path = os.path.join(os.pardir, os.pardir, 'data', 'Northwind.sqlite')\n",
    "northwind_connection = sqlite3.connect(northwind_path)"
   ]
  },
  {
   "cell_type": "markdown",
   "metadata": {},
   "source": [
    "Now we create a cursor for each database."
   ]
  },
  {
   "cell_type": "code",
   "execution_count": 2,
   "metadata": {
    "ExecuteTime": {
     "end_time": "2021-02-10T22:52:45.146003Z",
     "start_time": "2021-02-10T22:52:45.143645Z"
    }
   },
   "outputs": [],
   "source": [
    "chinook = chinook_connection.cursor()\n",
    "northwind = northwind_connection.cursor()"
   ]
  },
  {
   "cell_type": "markdown",
   "metadata": {},
   "source": [
    "## Let's first review some fundamental commands."
   ]
  },
  {
   "cell_type": "markdown",
   "metadata": {
    "ExecuteTime": {
     "end_time": "2020-12-10T17:05:58.778715Z",
     "start_time": "2020-12-10T17:05:58.775088Z"
    }
   },
   "source": [
    "### `SELECT`\n",
    "\n",
    "In the cell below, use the `SELECT` command to select all records from the northwind `product` table."
   ]
  },
  {
   "cell_type": "code",
   "execution_count": 3,
   "metadata": {
    "ExecuteTime": {
     "end_time": "2021-02-10T22:52:45.159902Z",
     "start_time": "2021-02-10T22:52:45.147622Z"
    }
   },
   "outputs": [
    {
     "data": {
      "text/plain": [
       "[(1, 'Chai', 1, 1, '10 boxes x 20 bags', 18, 39, 0, 10, 0),\n",
       " (2, 'Chang', 1, 1, '24 - 12 oz bottles', 19, 17, 40, 25, 0),\n",
       " (3, 'Aniseed Syrup', 1, 2, '12 - 550 ml bottles', 10, 13, 70, 25, 0)]"
      ]
     },
     "execution_count": 3,
     "metadata": {},
     "output_type": "execute_result"
    }
   ],
   "source": [
    "query = '''SELECT * FROM product;'''\n",
    "\n",
    "northwind.execute(query).fetchmany(3)"
   ]
  },
  {
   "cell_type": "markdown",
   "metadata": {},
   "source": [
    "#### Selecting one column\n",
    "\n",
    "Next let's only collect the product names from the `product` table."
   ]
  },
  {
   "cell_type": "code",
   "execution_count": 4,
   "metadata": {
    "ExecuteTime": {
     "end_time": "2021-02-10T22:52:45.164981Z",
     "start_time": "2021-02-10T22:52:45.161318Z"
    }
   },
   "outputs": [
    {
     "data": {
      "text/plain": [
       "[('Chai',), ('Chang',), ('Aniseed Syrup',)]"
      ]
     },
     "execution_count": 4,
     "metadata": {},
     "output_type": "execute_result"
    }
   ],
   "source": [
    "query = '''SELECT productname FROM product;'''\n",
    "\n",
    "northwind.execute(query).fetchmany(3)"
   ]
  },
  {
   "cell_type": "markdown",
   "metadata": {},
   "source": [
    "#### Selecting more than one column\n",
    "\n",
    "In the cell below we will collect the product names, unit price, and units in stock columns from the `product` table."
   ]
  },
  {
   "cell_type": "code",
   "execution_count": 5,
   "metadata": {
    "ExecuteTime": {
     "end_time": "2021-02-10T22:52:45.170224Z",
     "start_time": "2021-02-10T22:52:45.166584Z"
    }
   },
   "outputs": [
    {
     "data": {
      "text/plain": [
       "[('Chai', 18, 39), ('Chang', 19, 17), ('Aniseed Syrup', 10, 13)]"
      ]
     },
     "execution_count": 5,
     "metadata": {},
     "output_type": "execute_result"
    }
   ],
   "source": [
    "query = '''SELECT productname,\n",
    "                  unitprice,\n",
    "                  unitsinstock\n",
    "           FROM product;'''\n",
    "\n",
    "northwind.execute(query).fetchmany(3)"
   ]
  },
  {
   "cell_type": "markdown",
   "metadata": {},
   "source": [
    "### `WHERE`\n",
    "\n",
    "In the cell below, use the `WHERE` command to select all records from the `product` table that have a unit price that is greater than $100."
   ]
  },
  {
   "cell_type": "code",
   "execution_count": 6,
   "metadata": {
    "ExecuteTime": {
     "end_time": "2021-02-10T22:52:45.175587Z",
     "start_time": "2021-02-10T22:52:45.171614Z"
    }
   },
   "outputs": [
    {
     "data": {
      "text/plain": [
       "[(29,\n",
       "  'Thüringer Rostbratwurst',\n",
       "  12,\n",
       "  6,\n",
       "  '50 bags x 30 sausgs.',\n",
       "  123.79,\n",
       "  0,\n",
       "  0,\n",
       "  0,\n",
       "  1),\n",
       " (38, 'Côte de Blaye', 18, 1, '12 - 75 cl bottles', 263.5, 17, 0, 15, 0)]"
      ]
     },
     "execution_count": 6,
     "metadata": {},
     "output_type": "execute_result"
    }
   ],
   "source": [
    "query = '''SELECT * FROM product\n",
    "           WHERE unitprice > 100;'''\n",
    "\n",
    "northwind.execute(query).fetchmany(3)"
   ]
  },
  {
   "cell_type": "markdown",
   "metadata": {},
   "source": [
    "### `AND`\n",
    "In the cell below collect the name of of products with a unit price > 100 with less than 10 units in stock. "
   ]
  },
  {
   "cell_type": "code",
   "execution_count": 7,
   "metadata": {
    "ExecuteTime": {
     "end_time": "2021-02-10T22:52:45.180243Z",
     "start_time": "2021-02-10T22:52:45.176784Z"
    }
   },
   "outputs": [
    {
     "data": {
      "text/plain": [
       "[('Thüringer Rostbratwurst',)]"
      ]
     },
     "execution_count": 7,
     "metadata": {},
     "output_type": "execute_result"
    }
   ],
   "source": [
    "query = '''SELECT productname FROM product\n",
    "           WHERE product.unitprice > 100\n",
    "           AND product.unitsinstock < 10;'''\n",
    "\n",
    "northwind.execute(query).fetchall()"
   ]
  },
  {
   "cell_type": "markdown",
   "metadata": {},
   "source": [
    "### `JOIN`\n",
    "\n",
    "In the cell below we use the `JOIN` command to return the unit price and the name of the supplier."
   ]
  },
  {
   "cell_type": "code",
   "execution_count": 8,
   "metadata": {
    "ExecuteTime": {
     "end_time": "2021-02-10T22:52:45.184760Z",
     "start_time": "2021-02-10T22:52:45.181408Z"
    }
   },
   "outputs": [
    {
     "data": {
      "text/plain": [
       "[(18, 'Exotic Liquids'), (19, 'Exotic Liquids'), (10, 'Exotic Liquids')]"
      ]
     },
     "execution_count": 8,
     "metadata": {},
     "output_type": "execute_result"
    }
   ],
   "source": [
    "query = '''SELECT product.unitprice, supplier.companyname\n",
    "           FROM product \n",
    "           INNER JOIN\n",
    "           supplier \n",
    "           ON product.supplierid = supplier.id;'''\n",
    "\n",
    "northwind.execute(query).fetchmany(3)"
   ]
  },
  {
   "cell_type": "markdown",
   "metadata": {},
   "source": [
    "### `DISTINCT`\n",
    "\n",
    "In the cell below, use the `DISTINCT` command to collect all unique discount values from the orderdetail table."
   ]
  },
  {
   "cell_type": "code",
   "execution_count": 9,
   "metadata": {
    "ExecuteTime": {
     "end_time": "2021-02-10T22:52:45.190173Z",
     "start_time": "2021-02-10T22:52:45.185861Z"
    }
   },
   "outputs": [
    {
     "data": {
      "text/plain": [
       "[(0.0,),\n",
       " (0.15,),\n",
       " (0.05,),\n",
       " (0.2,),\n",
       " (0.25,),\n",
       " (0.1,),\n",
       " (0.02,),\n",
       " (0.03,),\n",
       " (0.04,),\n",
       " (0.06,),\n",
       " (0.01,)]"
      ]
     },
     "execution_count": 9,
     "metadata": {},
     "output_type": "execute_result"
    }
   ],
   "source": [
    "query = '''SELECT DISTINCT discount FROM orderdetail'''\n",
    "\n",
    "northwind.execute(query).fetchall()"
   ]
  },
  {
   "cell_type": "markdown",
   "metadata": {},
   "source": [
    "### Column broadcasting\n",
    "\n",
    "In the cell below we calculate the total amount spent by multiplying the unit price times the quantity and subtracking the discount."
   ]
  },
  {
   "cell_type": "code",
   "execution_count": 10,
   "metadata": {
    "ExecuteTime": {
     "end_time": "2021-02-10T22:52:45.194987Z",
     "start_time": "2021-02-10T22:52:45.192023Z"
    }
   },
   "outputs": [
    {
     "data": {
      "text/plain": [
       "[(168.0,), (98.0,), (174.0,)]"
      ]
     },
     "execution_count": 10,
     "metadata": {},
     "output_type": "execute_result"
    }
   ],
   "source": [
    "query = '''SELECT unitprice * quantity - (unitprice * quantity * discount) from orderdetail;'''\n",
    "\n",
    "northwind.execute(query).fetchmany(3)"
   ]
  },
  {
   "cell_type": "markdown",
   "metadata": {},
   "source": [
    "### `GROUPBY`\n",
    "In the cell below, use the `GROUPBY` command to collect the total amount spent on an order."
   ]
  },
  {
   "cell_type": "code",
   "execution_count": 11,
   "metadata": {
    "ExecuteTime": {
     "end_time": "2021-02-10T22:52:45.201480Z",
     "start_time": "2021-02-10T22:52:45.196219Z"
    }
   },
   "outputs": [
    {
     "data": {
      "text/plain": [
       "830"
      ]
     },
     "execution_count": 11,
     "metadata": {},
     "output_type": "execute_result"
    }
   ],
   "source": [
    "query = '''SELECT SUM(unitprice * quantity - (unitprice * quantity * discount)) ordertotal \n",
    "           FROM orderdetail\n",
    "           GROUP BY orderdetail.orderid;'''\n",
    "\n",
    "len(northwind.execute(query).fetchall())"
   ]
  },
  {
   "cell_type": "code",
   "execution_count": 12,
   "metadata": {
    "ExecuteTime": {
     "end_time": "2021-02-10T22:52:45.206522Z",
     "start_time": "2021-02-10T22:52:45.202459Z"
    }
   },
   "outputs": [
    {
     "data": {
      "text/plain": [
       "830"
      ]
     },
     "execution_count": 12,
     "metadata": {},
     "output_type": "execute_result"
    }
   ],
   "source": [
    "# We have the same number of orders as the full table!\n",
    "query = '''SELECT DISTINCT orderid from orderdetail;'''\n",
    "\n",
    "len(northwind.execute(query).fetchall())"
   ]
  },
  {
   "cell_type": "markdown",
   "metadata": {},
   "source": [
    "### `ORDER BY` and `ASC/DESC`\n",
    "In the cell below, we collect all product names and unit prices and sort by unitprice in descending order."
   ]
  },
  {
   "cell_type": "code",
   "execution_count": 13,
   "metadata": {
    "ExecuteTime": {
     "end_time": "2021-02-10T22:52:45.211441Z",
     "start_time": "2021-02-10T22:52:45.207506Z"
    }
   },
   "outputs": [
    {
     "data": {
      "text/plain": [
       "[('Côte de Blaye', 263.5),\n",
       " ('Thüringer Rostbratwurst', 123.79),\n",
       " ('Mishi Kobe Niku', 97),\n",
       " (\"Sir Rodney's Marmalade\", 81),\n",
       " ('Carnarvon Tigers', 62.5)]"
      ]
     },
     "execution_count": 13,
     "metadata": {},
     "output_type": "execute_result"
    }
   ],
   "source": [
    "query = '''SELECT productname, unitprice FROM product\n",
    "           ORDER BY product.unitprice DESC;'''\n",
    "\n",
    "northwind.execute(query).fetchmany(5)"
   ]
  },
  {
   "cell_type": "markdown",
   "metadata": {},
   "source": [
    "### Selecting all from both tables\n",
    "\n",
    "In the cell below we use the `JOIN` command to return all product and supplier information from the `product` and `supplier` tables."
   ]
  },
  {
   "cell_type": "code",
   "execution_count": 14,
   "metadata": {
    "ExecuteTime": {
     "end_time": "2021-02-10T22:52:45.216865Z",
     "start_time": "2021-02-10T22:52:45.212648Z"
    }
   },
   "outputs": [
    {
     "data": {
      "text/plain": [
       "[(1,\n",
       "  'Chai',\n",
       "  1,\n",
       "  1,\n",
       "  '10 boxes x 20 bags',\n",
       "  18,\n",
       "  39,\n",
       "  0,\n",
       "  10,\n",
       "  0,\n",
       "  1,\n",
       "  'Exotic Liquids',\n",
       "  'Charlotte Cooper',\n",
       "  'Purchasing Manager',\n",
       "  '49 Gilbert St.',\n",
       "  'London',\n",
       "  'British Isles',\n",
       "  'EC1 4SD',\n",
       "  'UK',\n",
       "  '(171) 555-2222',\n",
       "  None,\n",
       "  None)]"
      ]
     },
     "execution_count": 14,
     "metadata": {},
     "output_type": "execute_result"
    }
   ],
   "source": [
    "query = '''SELECT product.*, supplier.*\n",
    "           FROM product\n",
    "           INNER JOIN\n",
    "           supplier\n",
    "           ON product.supplierid = supplier.id;'''\n",
    "\n",
    "northwind.execute(query).fetchmany(1)"
   ]
  },
  {
   "cell_type": "markdown",
   "metadata": {},
   "source": [
    "# Pair Programming\n",
    "\n",
    "Five SQL tasks have been provided for each of the two databases. \n",
    "\n",
    "For each database, one students should share their screen and write the code. The other student should navigate. Once students have completed the questions for the first database, students should switch roles for the second database. "
   ]
  },
  {
   "cell_type": "markdown",
   "metadata": {},
   "source": [
    "## Northwind Practice"
   ]
  },
  {
   "cell_type": "markdown",
   "metadata": {},
   "source": [
    "### Task 1\n",
    "\n",
    "Select all observations from the `orderdetail` table."
   ]
  },
  {
   "cell_type": "code",
   "execution_count": 15,
   "metadata": {
    "ExecuteTime": {
     "end_time": "2021-02-10T22:52:45.223720Z",
     "start_time": "2021-02-10T22:52:45.218678Z"
    }
   },
   "outputs": [
    {
     "data": {
      "text/plain": [
       "[('10248/11', 10248, 11, 14, 12, 0.0),\n",
       " ('10248/42', 10248, 42, 9.8, 10, 0.0),\n",
       " ('10248/72', 10248, 72, 34.8, 5, 0.0)]"
      ]
     },
     "execution_count": 15,
     "metadata": {},
     "output_type": "execute_result"
    }
   ],
   "source": [
    "query = '''SELECT * from orderdetail;'''\n",
    "northwind.execute(query)\n",
    "northwind.fetchmany(3)"
   ]
  },
  {
   "cell_type": "markdown",
   "metadata": {},
   "source": [
    "### Task 2\n",
    "Select the product name and quantity per unit columns from the `product` table."
   ]
  },
  {
   "cell_type": "code",
   "execution_count": 16,
   "metadata": {
    "ExecuteTime": {
     "end_time": "2021-02-10T22:52:45.228558Z",
     "start_time": "2021-02-10T22:52:45.224832Z"
    }
   },
   "outputs": [
    {
     "data": {
      "text/plain": [
       "[('Chai', '10 boxes x 20 bags'),\n",
       " ('Chang', '24 - 12 oz bottles'),\n",
       " ('Aniseed Syrup', '12 - 550 ml bottles')]"
      ]
     },
     "execution_count": 16,
     "metadata": {},
     "output_type": "execute_result"
    }
   ],
   "source": [
    "query = '''SELECT productname, quantityperunit FROM product;'''\n",
    "northwind.execute(query)\n",
    "northwind.fetchmany(3)"
   ]
  },
  {
   "cell_type": "markdown",
   "metadata": {},
   "source": [
    "### Task 3\n",
    "Select all columns from the `order detail` table and the product name and quanitity per unit columns from the `product`"
   ]
  },
  {
   "cell_type": "code",
   "execution_count": 17,
   "metadata": {
    "ExecuteTime": {
     "end_time": "2021-02-10T22:52:45.233960Z",
     "start_time": "2021-02-10T22:52:45.229998Z"
    }
   },
   "outputs": [
    {
     "data": {
      "text/plain": [
       "('10248/11', 10248, 11, 14, 12, 0.0, 'Queso Cabrales', '1 kg pkg.')"
      ]
     },
     "execution_count": 17,
     "metadata": {},
     "output_type": "execute_result"
    }
   ],
   "source": [
    "query = '''SELECT od.*, p.productname, p.quantityperunit\n",
    "            FROM orderdetail od\n",
    "            INNER JOIN product p\n",
    "            ON p.id = od.productid;'''\n",
    "northwind.execute(query)\n",
    "northwind.fetchone()"
   ]
  },
  {
   "cell_type": "markdown",
   "metadata": {},
   "source": [
    "### Task 4\n",
    "Select all columns from the `order detail` and `order` table, and the product name and quanitity per unit columns from the `product` table"
   ]
  },
  {
   "cell_type": "code",
   "execution_count": 18,
   "metadata": {
    "ExecuteTime": {
     "end_time": "2021-02-10T22:52:45.238790Z",
     "start_time": "2021-02-10T22:52:45.235168Z"
    }
   },
   "outputs": [
    {
     "data": {
      "text/plain": [
       "(10248,\n",
       " 'VINET',\n",
       " 5,\n",
       " '2012-07-04',\n",
       " '2012-08-01',\n",
       " '2012-07-16',\n",
       " 3,\n",
       " 32.38,\n",
       " 'Vins et alcools Chevalier',\n",
       " \"59 rue de l'Abbaye\",\n",
       " 'Reims',\n",
       " 'Western Europe',\n",
       " '51100',\n",
       " 'France',\n",
       " '10248/11',\n",
       " 10248,\n",
       " 11,\n",
       " 14,\n",
       " 12,\n",
       " 0.0,\n",
       " 'Queso Cabrales',\n",
       " '1 kg pkg.')"
      ]
     },
     "execution_count": 18,
     "metadata": {},
     "output_type": "execute_result"
    }
   ],
   "source": [
    "query = '''SELECT o.*, od.*, p.productname, p.quantityperunit\n",
    "            FROM \"order\" o INNER JOIN orderdetail od\n",
    "            on od.orderid = o.id\n",
    "            INNER JOIN product p\n",
    "            ON od.productid = p.id;'''\n",
    "northwind.execute(query)\n",
    "northwind.fetchone()"
   ]
  },
  {
   "cell_type": "markdown",
   "metadata": {},
   "source": [
    "### Task 5"
   ]
  },
  {
   "cell_type": "markdown",
   "metadata": {},
   "source": [
    "Select the unique company names and phone number from the `shipper` table for orders with a freight cost that is larger than $100"
   ]
  },
  {
   "cell_type": "code",
   "execution_count": 19,
   "metadata": {
    "ExecuteTime": {
     "end_time": "2021-02-10T22:52:45.244785Z",
     "start_time": "2021-02-10T22:52:45.239762Z"
    }
   },
   "outputs": [
    {
     "data": {
      "text/plain": [
       "[('Federal Shipping', '(503) 555-9931'),\n",
       " ('Speedy Express', '(503) 555-9831'),\n",
       " ('United Package', '(503) 555-3199')]"
      ]
     },
     "execution_count": 19,
     "metadata": {},
     "output_type": "execute_result"
    }
   ],
   "source": [
    "query = '''SELECT DISTINCT companyname, phone FROM shipper s\n",
    "            INNER JOIN \"order\" o\n",
    "            ON s.id = o.shipvia\n",
    "            WHERE o.freight > 100\n",
    "            '''\n",
    "northwind.execute(query)\n",
    "northwind.fetchmany(3)"
   ]
  },
  {
   "cell_type": "code",
   "execution_count": 27,
   "metadata": {
    "ExecuteTime": {
     "end_time": "2021-02-11T00:25:30.328514Z",
     "start_time": "2021-02-11T00:25:30.322501Z"
    }
   },
   "outputs": [
    {
     "ename": "NameError",
     "evalue": "name 'pd' is not defined",
     "output_type": "error",
     "traceback": [
      "\u001b[0;31m---------------------------------------------------------------------------\u001b[0m",
      "\u001b[0;31mNameError\u001b[0m                                 Traceback (most recent call last)",
      "\u001b[0;32m<ipython-input-27-f30bd1500fb0>\u001b[0m in \u001b[0;36m<module>\u001b[0;34m\u001b[0m\n\u001b[0;32m----> 1\u001b[0;31m \u001b[0mpd\u001b[0m\u001b[0;34m.\u001b[0m\u001b[0mread_sql\u001b[0m\u001b[0;34m(\u001b[0m\u001b[0;34m'select * from shipper'\u001b[0m\u001b[0;34m,\u001b[0m \u001b[0mnorthwind_connection\u001b[0m\u001b[0;34m)\u001b[0m\u001b[0;34m.\u001b[0m\u001b[0mcolumns\u001b[0m\u001b[0;34m\u001b[0m\u001b[0;34m\u001b[0m\u001b[0m\n\u001b[0m",
      "\u001b[0;31mNameError\u001b[0m: name 'pd' is not defined"
     ]
    }
   ],
   "source": [
    "import pandas as p\n",
    "pd.read_sql('select * from shipper', northwind_connection).columns"
   ]
  },
  {
   "cell_type": "markdown",
   "metadata": {},
   "source": [
    "## Chinook Practice"
   ]
  },
  {
   "cell_type": "markdown",
   "metadata": {},
   "source": [
    "### Task 1\n",
    "Collect all oberservations from the genres table."
   ]
  },
  {
   "cell_type": "code",
   "execution_count": 20,
   "metadata": {
    "ExecuteTime": {
     "end_time": "2021-02-10T22:52:45.251299Z",
     "start_time": "2021-02-10T22:52:45.245775Z"
    }
   },
   "outputs": [
    {
     "data": {
      "text/plain": [
       "[(1, 'Rock'), (2, 'Jazz'), (3, 'Metal')]"
      ]
     },
     "execution_count": 20,
     "metadata": {},
     "output_type": "execute_result"
    }
   ],
   "source": [
    "query = '''SELECT * FROM genre'''\n",
    "chinook.execute(query)\n",
    "chinook.fetchmany(3)"
   ]
  },
  {
   "cell_type": "markdown",
   "metadata": {},
   "source": [
    "### Task 2\n",
    "Collect the first name, last name, and email for all customers."
   ]
  },
  {
   "cell_type": "code",
   "execution_count": 21,
   "metadata": {
    "ExecuteTime": {
     "end_time": "2021-02-10T22:52:45.256380Z",
     "start_time": "2021-02-10T22:52:45.252703Z"
    }
   },
   "outputs": [
    {
     "data": {
      "text/plain": [
       "[('Luís', 'Gonçalves', 'luisg@embraer.com.br'),\n",
       " ('Leonie', 'Köhler', 'leonekohler@surfeu.de'),\n",
       " ('François', 'Tremblay', 'ftremblay@gmail.com')]"
      ]
     },
     "execution_count": 21,
     "metadata": {},
     "output_type": "execute_result"
    }
   ],
   "source": [
    "query = '''SELECT firstname, lastname, email FROM customer;'''\n",
    "chinook.execute(query)\n",
    "chinook.fetchmany(3)"
   ]
  },
  {
   "cell_type": "markdown",
   "metadata": {},
   "source": [
    "### Task 3\n",
    "Collect all track names with a blues genre."
   ]
  },
  {
   "cell_type": "code",
   "execution_count": 22,
   "metadata": {
    "ExecuteTime": {
     "end_time": "2021-02-10T22:52:45.262440Z",
     "start_time": "2021-02-10T22:52:45.257442Z"
    }
   },
   "outputs": [
    {
     "data": {
      "text/plain": [
       "[('First Time I Met The Blues',), ('Let Me Love You Baby',), ('Stone Crazy',)]"
      ]
     },
     "execution_count": 22,
     "metadata": {},
     "output_type": "execute_result"
    }
   ],
   "source": [
    "query = '''SELECT t.name FROM track t\n",
    "            INNER JOIN genre g\n",
    "            ON g.genreid = t.genreid\n",
    "            WHERE g.Name = \"Blues\"'''\n",
    "chinook.execute(query)\n",
    "chinook.fetchmany(3)"
   ]
  },
  {
   "cell_type": "markdown",
   "metadata": {},
   "source": [
    "### Task 4\n",
    "Collect the genre names, track names, and album names."
   ]
  },
  {
   "cell_type": "code",
   "execution_count": 23,
   "metadata": {
    "ExecuteTime": {
     "end_time": "2021-02-10T22:52:45.267465Z",
     "start_time": "2021-02-10T22:52:45.263643Z"
    }
   },
   "outputs": [
    {
     "data": {
      "text/plain": [
       "[('Rock',\n",
       "  'For Those About To Rock (We Salute You)',\n",
       "  'For Those About To Rock We Salute You'),\n",
       " ('Rock', 'Balls to the Wall', 'Balls to the Wall'),\n",
       " ('Rock', 'Fast As a Shark', 'Restless and Wild')]"
      ]
     },
     "execution_count": 23,
     "metadata": {},
     "output_type": "execute_result"
    }
   ],
   "source": [
    "query = '''SELECT g.name, t.name, a.title\n",
    "            FROM genre g\n",
    "            INNER JOIN track t\n",
    "            on g.genreid = t.genreid\n",
    "            INNER JOIN album a\n",
    "            on t.albumid = a.albumid;'''\n",
    "chinook.execute(query)\n",
    "chinook.fetchmany(3)"
   ]
  },
  {
   "cell_type": "markdown",
   "metadata": {},
   "source": [
    "### Task 5\n",
    "Collect the unique first name, last name, and email for all customers who purchase blues music. "
   ]
  },
  {
   "cell_type": "code",
   "execution_count": 24,
   "metadata": {
    "ExecuteTime": {
     "end_time": "2021-02-10T22:52:45.276540Z",
     "start_time": "2021-02-10T22:52:45.268676Z"
    }
   },
   "outputs": [
    {
     "data": {
      "text/plain": [
       "[('John', 'Gordon', 'johngordon22@yahoo.com'),\n",
       " ('Tim', 'Goyer', 'tgoyer@apple.com'),\n",
       " ('Hannah', 'Schneider', 'hannah.schneider@yahoo.de')]"
      ]
     },
     "execution_count": 24,
     "metadata": {},
     "output_type": "execute_result"
    }
   ],
   "source": [
    "query = '''SELECT DISTINCT c.firstname, c.lastname, c.email \n",
    "            FROM customer c\n",
    "            INNER JOIN invoice i\n",
    "            ON c.customerid = i.customerid\n",
    "            INNER JOIN invoiceline il\n",
    "            ON i.invoiceid = il.invoiceid\n",
    "            INNER JOIN track t\n",
    "            ON il.trackid = t.trackid\n",
    "            INNER JOIN genre g\n",
    "            ON t.genreid = g.genreid\n",
    "            WHERE g.name = \"Blues\";'''\n",
    "chinook.execute(query)\n",
    "chinook.fetchmany(3)"
   ]
  }
 ],
 "metadata": {
  "kernelspec": {
   "display_name": "Python 3",
   "language": "python",
   "name": "python3"
  },
  "language_info": {
   "codemirror_mode": {
    "name": "ipython",
    "version": 3
   },
   "file_extension": ".py",
   "mimetype": "text/x-python",
   "name": "python",
   "nbconvert_exporter": "python",
   "pygments_lexer": "ipython3",
   "version": "3.7.4"
  },
  "toc": {
   "base_numbering": 1,
   "nav_menu": {},
   "number_sections": false,
   "sideBar": true,
   "skip_h1_title": false,
   "title_cell": "Table of Contents",
   "title_sidebar": "Contents",
   "toc_cell": false,
   "toc_position": {},
   "toc_section_display": true,
   "toc_window_display": false
  }
 },
 "nbformat": 4,
 "nbformat_minor": 2
}
