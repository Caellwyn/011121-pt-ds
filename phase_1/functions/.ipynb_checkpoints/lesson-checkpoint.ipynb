{
 "cells": [
  {
   "cell_type": "markdown",
   "metadata": {},
   "source": [
    "# Intro to Functions"
   ]
  },
  {
   "cell_type": "markdown",
   "metadata": {},
   "source": [
    "**Why are functions useful?**\n"
   ]
  },
  {
   "cell_type": "markdown",
   "metadata": {},
   "source": [
    "### Let's look at an example\n",
    "\n",
    "Below, let's write a function called `welcome_message` that prints the welcome message you received for day 1 of the bootcamp"
   ]
  },
  {
   "cell_type": "code",
   "execution_count": null,
   "metadata": {
    "ExecuteTime": {
     "end_time": "2021-01-22T22:17:53.269956Z",
     "start_time": "2021-01-22T22:17:53.267058Z"
    }
   },
   "outputs": [],
   "source": [
    "# How do we define a function?\n",
    "# How does a function send data back to us?"
   ]
  },
  {
   "cell_type": "markdown",
   "metadata": {},
   "source": [
    "What if I wanted to edit the message that is output from the `welcome_message` function?"
   ]
  },
  {
   "cell_type": "code",
   "execution_count": null,
   "metadata": {},
   "outputs": [],
   "source": [
    "# How do we edit the message?"
   ]
  },
  {
   "cell_type": "markdown",
   "metadata": {},
   "source": [
    "Let's make a function called `even_numbers` that takes an array of numbers and returns an array that only contains the even numbers from the original array."
   ]
  },
  {
   "cell_type": "code",
   "execution_count": null,
   "metadata": {},
   "outputs": [],
   "source": [
    "# Your code here\n",
    "\n",
    "\n",
    "print(even_numbers([1,2,3,4,5,6,7,8,9])) # [2,4,6,8]\n",
    "print(even_numbers([5,94,294,5938,21,1])) # [94, 294, 5938]\n",
    "print(even_numbers([1,1,1,1,1,1,1,1])) # []"
   ]
  },
  {
   "cell_type": "markdown",
   "metadata": {},
   "source": [
    "# Create a Program\n",
    "Now let's use our function skills to create a program that asks for a series of alphabetic characters and whether we would like to calculate the mean, median, or mode. Once those inputs have been received, the program translates each character into an integer and outputs a histogram of those numbers with a v-line denoting the requested statistic.\n",
    "\n",
    "![](app.gif)\n",
    "\n",
    "### Tasks\n",
    "We are tasked with creating the following functions:\n",
    "\n",
    "1. **mean**\n",
    "    - A function that recieves an array of numbers, and returns the average.\n",
    "2. **median**\n",
    "    - A function that receives an array of numbers, and returns the middle value.\n",
    "3. **mode**\n",
    "    - A function that receives an array of numbers and returns the most common value. \n",
    "    \n",
    "4. **initialize**\n",
    "    - A function that provides a user an opening prompt and receives their inputs.\n",
    "5. **letters_to_numbers**\n",
    "    - A function that takes a series of letters and returns an array of numbers.\n",
    "6. **visualize**\n",
    "    - A function that receives an array of numbers and statistic and outputs a histogram of the array with a v-line for the given statistic.\n",
    "7. **main**\n",
    "    - A function that runs the program. "
   ]
  },
  {
   "cell_type": "markdown",
   "metadata": {},
   "source": [
    "**The following dataset maps letters to numbers, and should be used in the `letters_to_numbers` function.**"
   ]
  },
  {
   "cell_type": "code",
   "execution_count": null,
   "metadata": {
    "ExecuteTime": {
     "end_time": "2021-01-22T22:07:35.341683Z",
     "start_time": "2021-01-22T22:07:35.335207Z"
    }
   },
   "outputs": [],
   "source": [
    "## Letter Map Dataset\n",
    "\n",
    "letter_map = {'a': 0, 'b': 1, 'c': 2, 'd': 3,\n",
    "             'e': 4, 'f': 5, 'g': 6, 'h': 7,\n",
    "             'i': 8, 'j': 9, 'k': 10,'l': 11,\n",
    "             'm': 12,'n': 13,'o': 14,'p': 15,\n",
    "             'q': 16,'r': 17,'s': 18,'t': 19,\n",
    "             'u': 20,'v': 21,'w': 22,'x': 23,\n",
    "             'y': 24,'z': 25,'A': 26,'B': 27,\n",
    "             'C': 28,'D': 29,'E': 30,'F': 31,\n",
    "             'G': 32,'H': 33,'I': 34,'J': 35,\n",
    "             'K': 36,'L': 37,'M': 38,'N': 39,\n",
    "             'O': 40,'P': 41,'Q': 42,'R': 43,\n",
    "             'S': 44,'T': 45,'U': 46,'V': 47,\n",
    "             'W': 48,'X': 49,'Y': 50,'Z': 51}"
   ]
  },
  {
   "cell_type": "markdown",
   "metadata": {},
   "source": [
    "## Let's create the `mean`, `median`, and `mode` function together."
   ]
  },
  {
   "cell_type": "markdown",
   "metadata": {
    "ExecuteTime": {
     "end_time": "2021-01-17T19:19:17.602476Z",
     "start_time": "2021-01-17T19:19:17.600317Z"
    }
   },
   "source": [
    "### `mean`"
   ]
  },
  {
   "cell_type": "code",
   "execution_count": null,
   "metadata": {
    "ExecuteTime": {
     "end_time": "2021-01-22T22:07:37.324459Z",
     "start_time": "2021-01-22T22:07:37.321408Z"
    }
   },
   "outputs": [],
   "source": [
    "def mean(array):\n",
    "    ### Calculate the sum of the array\n",
    "    \n",
    "    # YOUR CODE HERE\n",
    "    \n",
    "    ### Calculate the length of the array\n",
    "    \n",
    "    # YOUR CODE HERE\n",
    "    \n",
    "    ### Return the sum/length\n",
    "    \n",
    "    # YOUR CODE HERE  "
   ]
  },
  {
   "cell_type": "markdown",
   "metadata": {},
   "source": [
    "### `median`"
   ]
  },
  {
   "cell_type": "code",
   "execution_count": null,
   "metadata": {
    "ExecuteTime": {
     "end_time": "2021-01-22T22:07:38.733919Z",
     "start_time": "2021-01-22T22:07:38.730770Z"
    }
   },
   "outputs": [],
   "source": [
    "def median(array):\n",
    "    ### Sort the array\n",
    "    \n",
    "    # YOUR CODE HERE\n",
    "    \n",
    "    ### Check if the length is divisible by 2\n",
    "    \n",
    "    # YOUR CODE HERE\n",
    "    \n",
    "        ### Find the middle value for the length of the array-1\n",
    "        \n",
    "        # YOUR CODE HERE\n",
    "        \n",
    "        ### Collect the two middle values\n",
    "        \n",
    "        # YOUR CODE HERE\n",
    "        \n",
    "        ### Find the mean of the two middle values\n",
    "        \n",
    "        # YOUR CODE HERE\n",
    "        \n",
    "    ### If the length of the array is odd\n",
    "        \n",
    "        ### Find the center index\n",
    "        \n",
    "        # YOUR CODE HERE\n",
    "        \n",
    "        ### Index the array for the median value\n",
    "        \n",
    "        # YOUR CODE HERE\n",
    "        \n",
    "        \n",
    "    ### Return the median\n",
    "    \n",
    "    # YOUR CODE HERE"
   ]
  },
  {
   "cell_type": "markdown",
   "metadata": {},
   "source": [
    "### `mode`"
   ]
  },
  {
   "cell_type": "code",
   "execution_count": null,
   "metadata": {
    "ExecuteTime": {
     "end_time": "2021-01-22T22:07:39.986072Z",
     "start_time": "2021-01-22T22:07:39.982568Z"
    }
   },
   "outputs": [],
   "source": [
    "def mode(array):\n",
    "    ### Create an empty dictionary\n",
    "    \n",
    "    # YOUR CODE HERE\n",
    "    \n",
    "    ### Loop over each number in the array\n",
    "    \n",
    "    # YOUR CODE HERE\n",
    "    \n",
    "        ### If the number is in the dictionary\n",
    "        ### add one to the count\n",
    "        ### If the number is not in the dictionary\n",
    "        ### Add the number with a value of 1\n",
    "        \n",
    "        # YOUR CODE HERE\n",
    "        \n",
    "    ### Find the number with the highest count \n",
    "    \n",
    "    # YOUR CODE HERE\n",
    "    \n",
    "    ### Return the mode\n",
    "    \n",
    "    # YOUR CODE HERE"
   ]
  },
  {
   "cell_type": "markdown",
   "metadata": {},
   "source": [
    "### Using Python's `input` function"
   ]
  },
  {
   "cell_type": "code",
   "execution_count": null,
   "metadata": {
    "ExecuteTime": {
     "end_time": "2021-01-22T22:07:41.471585Z",
     "start_time": "2021-01-22T22:07:41.103299Z"
    }
   },
   "outputs": [],
   "source": [
    "user_input = input('What is your name? ')\n",
    "print(\"The user's name is\", user_input )"
   ]
  },
  {
   "cell_type": "markdown",
   "metadata": {},
   "source": [
    "### Returning multiple values"
   ]
  },
  {
   "cell_type": "code",
   "execution_count": null,
   "metadata": {
    "ExecuteTime": {
     "end_time": "2021-01-22T22:26:08.012407Z",
     "start_time": "2021-01-22T22:26:08.008249Z"
    }
   },
   "outputs": [],
   "source": [
    "def return_one_two():\n",
    "    return 1, 2\n",
    "\n",
    "one, two = return_one_two()\n",
    "\n",
    "(one, two)"
   ]
  },
  {
   "cell_type": "markdown",
   "metadata": {},
   "source": [
    "## Please write the remaining functions"
   ]
  },
  {
   "cell_type": "markdown",
   "metadata": {},
   "source": [
    "### Create the `initialize` function"
   ]
  },
  {
   "cell_type": "code",
   "execution_count": null,
   "metadata": {
    "ExecuteTime": {
     "end_time": "2021-01-22T22:07:44.128324Z",
     "start_time": "2021-01-22T22:07:44.126206Z"
    }
   },
   "outputs": [],
   "source": [
    "# YOUR CODE HERE"
   ]
  },
  {
   "cell_type": "markdown",
   "metadata": {},
   "source": [
    "### Create the `letters_to_numbers` function"
   ]
  },
  {
   "cell_type": "code",
   "execution_count": null,
   "metadata": {
    "ExecuteTime": {
     "end_time": "2021-01-22T22:07:45.217421Z",
     "start_time": "2021-01-22T22:07:45.215215Z"
    }
   },
   "outputs": [],
   "source": [
    "# YOUR CODE HERE"
   ]
  },
  {
   "cell_type": "markdown",
   "metadata": {},
   "source": [
    "### Create the `visualize` function"
   ]
  },
  {
   "cell_type": "code",
   "execution_count": null,
   "metadata": {
    "ExecuteTime": {
     "end_time": "2021-01-22T22:07:46.194506Z",
     "start_time": "2021-01-22T22:07:46.192447Z"
    }
   },
   "outputs": [],
   "source": [
    "# YOUR CODE HERE"
   ]
  },
  {
   "cell_type": "markdown",
   "metadata": {},
   "source": [
    "### Create the `main` function"
   ]
  },
  {
   "cell_type": "code",
   "execution_count": null,
   "metadata": {
    "ExecuteTime": {
     "end_time": "2021-01-22T22:07:47.295246Z",
     "start_time": "2021-01-22T22:07:47.293068Z"
    }
   },
   "outputs": [],
   "source": [
    "# YOUR CODE HERE"
   ]
  },
  {
   "cell_type": "markdown",
   "metadata": {},
   "source": [
    "## Test your work"
   ]
  },
  {
   "cell_type": "code",
   "execution_count": null,
   "metadata": {
    "ExecuteTime": {
     "end_time": "2021-01-22T22:09:35.942911Z",
     "start_time": "2021-01-22T22:09:05.954825Z"
    }
   },
   "outputs": [],
   "source": [
    "main()"
   ]
  }
 ],
 "metadata": {
  "kernelspec": {
   "display_name": "Python 3",
   "language": "python",
   "name": "python3"
  },
  "language_info": {
   "codemirror_mode": {
    "name": "ipython",
    "version": 3
   },
   "file_extension": ".py",
   "mimetype": "text/x-python",
   "name": "python",
   "nbconvert_exporter": "python",
   "pygments_lexer": "ipython3",
   "version": "3.7.4"
  },
  "toc": {
   "base_numbering": 1,
   "nav_menu": {},
   "number_sections": false,
   "sideBar": true,
   "skip_h1_title": false,
   "title_cell": "Table of Contents",
   "title_sidebar": "Contents",
   "toc_cell": false,
   "toc_position": {
    "height": "calc(100% - 180px)",
    "left": "10px",
    "top": "150px",
    "width": "218.705px"
   },
   "toc_section_display": true,
   "toc_window_display": false
  }
 },
 "nbformat": 4,
 "nbformat_minor": 2
}
