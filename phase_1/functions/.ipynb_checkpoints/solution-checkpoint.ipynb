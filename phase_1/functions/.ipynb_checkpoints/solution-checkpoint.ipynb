{
 "cells": [
  {
   "cell_type": "markdown",
   "metadata": {},
   "source": [
    "# Intro to Functions"
   ]
  },
  {
   "cell_type": "markdown",
   "metadata": {},
   "source": [
    "**Why are functions useful?**\n"
   ]
  },
  {
   "cell_type": "markdown",
   "metadata": {},
   "source": [
    "### Let's look at an example\n",
    "\n",
    "Below, let's write a function called `welcome_message` that prints the welcome message you received for day 1 of the bootcamp"
   ]
  },
  {
   "cell_type": "code",
   "execution_count": 1,
   "metadata": {
    "ExecuteTime": {
     "end_time": "2021-01-25T13:32:51.538304Z",
     "start_time": "2021-01-25T13:32:51.534588Z"
    }
   },
   "outputs": [],
   "source": [
    "def welcome_message():\n",
    "        message = ''':mega: Alright @channel. Only a few hours left till orientation! :mega:\n",
    "    Please be sure to check out your canvas homeroom page :house_with_garden: where your class calendar :calendar: can be found!\n",
    "    Course work has been published to each of you in your phase 1 course so if you’re eager to begin learning feel free to start working through some lessons! :sonicrun:\n",
    "    :arrow-right: One of your first tasks for this week is to sign up for a 1:1 with Dara and myself. :arrow-left:\n",
    "    To sign up for a 1:1 with Dara click here\n",
    "    To sign up for a 1:1 with Joél (me) click here\n",
    "    Orientation begins at 6pm EST!\n",
    "    To join orientation, click here!\n",
    "    :eyes-right: Last but not least :eyes: it is a top priority that ya’ll know how to send me gifs in slack. To send gifs in slack, type /giphy + whatever key terms are most relevant to your mood, hit enter, and shuffle through the results until you find one that you like!\n",
    "    :chill-cat: Optional: Please respond in the thread below with a gif for how you’re feeling today :chill-cat:  '''\n",
    "        print(message)"
   ]
  },
  {
   "cell_type": "markdown",
   "metadata": {},
   "source": [
    "What if I wanted to edit the message that is output from the `welcome_message` function?"
   ]
  },
  {
   "cell_type": "markdown",
   "metadata": {},
   "source": [
    "**If we would like to use the output of a function in future code (this should be considered the standard) then we need to use a `return` statement.**\n",
    ">We can think of print statements as something that is sending data to the front end and return statements as sending data to the backend"
   ]
  },
  {
   "cell_type": "code",
   "execution_count": 2,
   "metadata": {
    "ExecuteTime": {
     "end_time": "2021-01-25T13:32:52.420910Z",
     "start_time": "2021-01-25T13:32:52.417856Z"
    }
   },
   "outputs": [],
   "source": [
    "def welcome_message():\n",
    "        message = ''':mega: Alright @channel. Only a few hours left till orientation! :mega:\n",
    "    Please be sure to check out your canvas homeroom page :house_with_garden: where your class calendar :calendar: can be found!\n",
    "    Course work has been published to each of you in your phase 1 course so if you’re eager to begin learning feel free to start working through some lessons! :sonicrun:\n",
    "    :arrow-right: One of your first tasks for this week is to sign up for a 1:1 with Dara and myself. :arrow-left:\n",
    "    To sign up for a 1:1 with Dara click here\n",
    "    To sign up for a 1:1 with Joél (me) click here\n",
    "    Orientation begins at 6pm EST!\n",
    "    To join orientation, click here!\n",
    "    :eyes-right: Last but not least :eyes: it is a top priority that ya’ll know how to send me gifs in slack. To send gifs in slack, type /giphy + whatever key terms are most relevant to your mood, hit enter, and shuffle through the results until you find one that you like!\n",
    "    :chill-cat: Optional: Please respond in the thread below with a gif for how you’re feeling today :chill-cat:  '''\n",
    "        return message"
   ]
  },
  {
   "cell_type": "markdown",
   "metadata": {},
   "source": [
    "Let's make a function called `even_numbers` that takes an array of numbers and returns an array that only contains the even numbers from the original array."
   ]
  },
  {
   "cell_type": "code",
   "execution_count": 3,
   "metadata": {
    "ExecuteTime": {
     "end_time": "2021-01-25T13:32:53.019023Z",
     "start_time": "2021-01-25T13:32:53.013245Z"
    }
   },
   "outputs": [
    {
     "name": "stdout",
     "output_type": "stream",
     "text": [
      "[2, 4, 6, 8]\n",
      "[94, 294, 5938]\n",
      "[]\n"
     ]
    }
   ],
   "source": [
    "def even_numbers(array):\n",
    "    even = []\n",
    "    for num in array:\n",
    "        if num % 2 == 0:\n",
    "            even.append(num)\n",
    "    return even\n",
    "\n",
    "print(even_numbers([1,2,3,4,5,6,7,8,9])) # [2,4,6,8]\n",
    "print(even_numbers([5,94,294,5938,21,1])) # [94, 294, 5938]\n",
    "print(even_numbers([1,1,1,1,1,1,1,1])) # []"
   ]
  },
  {
   "cell_type": "markdown",
   "metadata": {},
   "source": [
    "# Create a Program\n",
    "Now let's use our function skills to create a program that asks for a series of alphabetic characters and whether we would like to calculate the mean, median, or mode. Once those inputs have been received, the program translates each character into an integer and outputs a histogram of those numbers with a v-line denoting the requested statistic.\n",
    "\n",
    "![](app.gif)\n",
    "\n",
    "### Tasks\n",
    "We are tasked with creating the following functions:\n",
    "\n",
    "1. **mean**\n",
    "    - A function that recieves an array of numbers, and returns the average.\n",
    "2. **median**\n",
    "    - A function that receives an array of numbers, and returns the middle value.\n",
    "3. **mode**\n",
    "    - A function that receives an array of numbers and returns the most common value. \n",
    "    \n",
    "4. **initialize**\n",
    "    - A function that provides a user an opening prompt and receives their inputs.\n",
    "5. **letters_to_numbers**\n",
    "    - A function that takes a series of letters and returns an array of numbers.\n",
    "6. **visualize**\n",
    "    - A function that receives an array of numbers and statistic and outputs a histogram of the array with a v-line for the given statistic.\n",
    "7. **main**\n",
    "    - A function that runs the program. "
   ]
  },
  {
   "cell_type": "markdown",
   "metadata": {},
   "source": [
    "**The following dataset maps letters to numbers, and should be used in the `letters_to_numbers` function.**"
   ]
  },
  {
   "cell_type": "code",
   "execution_count": 4,
   "metadata": {
    "ExecuteTime": {
     "end_time": "2021-01-25T13:32:54.057085Z",
     "start_time": "2021-01-25T13:32:54.050797Z"
    }
   },
   "outputs": [],
   "source": [
    "## Letter Map Dataset\n",
    "\n",
    "letter_map = {'a': 0, 'b': 1, 'c': 2, 'd': 3,\n",
    "             'e': 4, 'f': 5, 'g': 6, 'h': 7,\n",
    "             'i': 8, 'j': 9, 'k': 10,'l': 11,\n",
    "             'm': 12,'n': 13,'o': 14,'p': 15,\n",
    "             'q': 16,'r': 17,'s': 18,'t': 19,\n",
    "             'u': 20,'v': 21,'w': 22,'x': 23,\n",
    "             'y': 24,'z': 25,'A': 26,'B': 27,\n",
    "             'C': 28,'D': 29,'E': 30,'F': 31,\n",
    "             'G': 32,'H': 33,'I': 34,'J': 35,\n",
    "             'K': 36,'L': 37,'M': 38,'N': 39,\n",
    "             'O': 40,'P': 41,'Q': 42,'R': 43,\n",
    "             'S': 44,'T': 45,'U': 46,'V': 47,\n",
    "             'W': 48,'X': 49,'Y': 50,'Z': 51}"
   ]
  },
  {
   "cell_type": "markdown",
   "metadata": {},
   "source": [
    "## Let's create the `mean`, `median`, and `mode` function together."
   ]
  },
  {
   "cell_type": "markdown",
   "metadata": {
    "ExecuteTime": {
     "end_time": "2021-01-17T19:19:17.602476Z",
     "start_time": "2021-01-17T19:19:17.600317Z"
    }
   },
   "source": [
    "### `mean`"
   ]
  },
  {
   "cell_type": "code",
   "execution_count": 5,
   "metadata": {
    "ExecuteTime": {
     "end_time": "2021-01-25T13:32:55.087735Z",
     "start_time": "2021-01-25T13:32:55.084971Z"
    },
    "code_folding": []
   },
   "outputs": [],
   "source": [
    "def mean(array):\n",
    "    # Calculate the sum of the array\n",
    "    total = sum(array)\n",
    "    # Calculate the length of the array\n",
    "    length = len(array)\n",
    "    # Return the sum/length\n",
    "    return total/length"
   ]
  },
  {
   "cell_type": "markdown",
   "metadata": {},
   "source": [
    "### `median`"
   ]
  },
  {
   "cell_type": "code",
   "execution_count": 6,
   "metadata": {
    "ExecuteTime": {
     "end_time": "2021-01-25T13:32:55.778930Z",
     "start_time": "2021-01-25T13:32:55.774733Z"
    },
    "code_folding": []
   },
   "outputs": [],
   "source": [
    "def median(array):\n",
    "    # Sort the array\n",
    "    array = sorted(array)\n",
    "    # Check if the length is divisible by 2\n",
    "    if len(array) % 2 == 0:\n",
    "        # Find the middle value for the length of the array-1\n",
    "        half = (len(array)-1)// 2\n",
    "        # Collect the two middle values\n",
    "        center = array[half:half + 2]\n",
    "        # Find the mean of the two middle values\n",
    "        median = mean(center)\n",
    "    else:\n",
    "        # Find the center index\n",
    "        half = len(array)// 2\n",
    "        # Index the array for the median value\n",
    "        median = array[half]\n",
    "        \n",
    "    # Return the median\n",
    "    return median"
   ]
  },
  {
   "cell_type": "markdown",
   "metadata": {},
   "source": [
    "### `mode`"
   ]
  },
  {
   "cell_type": "code",
   "execution_count": 7,
   "metadata": {
    "ExecuteTime": {
     "end_time": "2021-01-25T13:32:56.471170Z",
     "start_time": "2021-01-25T13:32:56.467079Z"
    },
    "code_folding": []
   },
   "outputs": [],
   "source": [
    "def mode(array):\n",
    "    # Create an empty dictionary\n",
    "    counts = {}\n",
    "    # Loop over each number in the array\n",
    "    for val in array:\n",
    "        # If the number is in the dictionary\n",
    "        # add one to the count\n",
    "        # If the number is not in the dictionary\n",
    "        # Add the number with a value of 1\n",
    "        if val in counts:\n",
    "            counts[val] += 1\n",
    "        else:\n",
    "            counts[val] = 1\n",
    "    # Find the number with the highest count   \n",
    "    sort = sorted(counts.items(), key=lambda x: x[1], reverse=True)\n",
    "    # Return the mode\n",
    "    return sort[0][0]"
   ]
  },
  {
   "cell_type": "markdown",
   "metadata": {},
   "source": [
    "### Using Python's `input` function"
   ]
  },
  {
   "cell_type": "markdown",
   "metadata": {},
   "source": [
    "### Returning multiple values"
   ]
  },
  {
   "cell_type": "markdown",
   "metadata": {},
   "source": [
    "## Please write the remaining functions"
   ]
  },
  {
   "cell_type": "markdown",
   "metadata": {},
   "source": [
    "### Create the `initialize` function"
   ]
  },
  {
   "cell_type": "code",
   "execution_count": 8,
   "metadata": {
    "ExecuteTime": {
     "end_time": "2021-01-25T13:32:58.188514Z",
     "start_time": "2021-01-25T13:32:58.184962Z"
    },
    "code_folding": []
   },
   "outputs": [],
   "source": [
    "def initialize():\n",
    "    characters = input('''Please type a random series of letters.\n",
    "                       \n",
    "                       ''')\n",
    "    statistic_number = input('''Would you like the \n",
    "    \n",
    "    1) Mean\n",
    "    2) Median\n",
    "    3) Mode\n",
    "    \n",
    "    Please enter the number for the statistic you'd like to report. \n",
    "    \n",
    "    ''')\n",
    "    \n",
    "    if statistic_number == 1:\n",
    "        stat = 'mean'\n",
    "    elif statistic_number == 2:\n",
    "        stat = 'median'\n",
    "    else:\n",
    "        stat = 'mode'\n",
    "        \n",
    "    return characters, stat"
   ]
  },
  {
   "cell_type": "markdown",
   "metadata": {},
   "source": [
    "### Create the `letters_to_numbers` function"
   ]
  },
  {
   "cell_type": "code",
   "execution_count": 9,
   "metadata": {
    "ExecuteTime": {
     "end_time": "2021-01-25T13:32:58.943513Z",
     "start_time": "2021-01-25T13:32:58.940682Z"
    },
    "code_folding": []
   },
   "outputs": [],
   "source": [
    "def letters_to_numbers(letters):\n",
    "    numbers = []\n",
    "    for letter in letters:\n",
    "        numbers.append(letter_map[letter])\n",
    "    return numbers"
   ]
  },
  {
   "cell_type": "markdown",
   "metadata": {},
   "source": [
    "### Create the `visualize` function"
   ]
  },
  {
   "cell_type": "code",
   "execution_count": 10,
   "metadata": {
    "ExecuteTime": {
     "end_time": "2021-01-25T13:33:00.061955Z",
     "start_time": "2021-01-25T13:32:59.726572Z"
    }
   },
   "outputs": [],
   "source": [
    "import matplotlib.pyplot as plt\n",
    "def visualize(array, stat):\n",
    "    fig, ax = plt.subplots()\n",
    "    ax.hist(array)\n",
    "    ax.axvline(stat, linewidth=5, color='red')"
   ]
  },
  {
   "cell_type": "markdown",
   "metadata": {},
   "source": [
    "### Create the `main` function"
   ]
  },
  {
   "cell_type": "code",
   "execution_count": 11,
   "metadata": {
    "ExecuteTime": {
     "end_time": "2021-01-25T13:33:00.640236Z",
     "start_time": "2021-01-25T13:33:00.636557Z"
    }
   },
   "outputs": [],
   "source": [
    "def main():\n",
    "    characters, stat = initialize()\n",
    "    numbers = letters_to_numbers(characters)\n",
    "    if stat == 'mean':\n",
    "        stat = mean(numbers)\n",
    "    elif stat == 'median':\n",
    "        stat = median(numbers)\n",
    "    else:\n",
    "        stat = mode(numbers)\n",
    "        \n",
    "    visualize(numbers, stat)"
   ]
  },
  {
   "cell_type": "markdown",
   "metadata": {},
   "source": [
    "## Test your work"
   ]
  },
  {
   "cell_type": "code",
   "execution_count": 12,
   "metadata": {
    "ExecuteTime": {
     "end_time": "2021-01-25T13:33:11.429727Z",
     "start_time": "2021-01-25T13:33:01.785005Z"
    }
   },
   "outputs": [
    {
     "name": "stdout",
     "output_type": "stream",
     "text": [
      "Please type a random series of letters.\n",
      "                       \n",
      "                       fhsdujkvldsuvvbrkgfsudfg\n",
      "Would you like the \n",
      "    \n",
      "    1) Mean\n",
      "    2) Median\n",
      "    3) Mode\n",
      "    \n",
      "    Please enter the number for the statistic you'd like to report. \n",
      "    \n",
      "    1\n"
     ]
    },
    {
     "data": {
      "image/png": "[encoded data removed]",
      "text/plain": [
       "<Figure size 432x288 with 1 Axes>"
      ]
     },
     "metadata": {
      "needs_background": "light"
     },
     "output_type": "display_data"
    }
   ],
   "source": [
    "main()"
   ]
  },
  {
   "cell_type": "code",
   "execution_count": null,
   "metadata": {},
   "outputs": [],
   "source": []
  }
 ],
 "metadata": {
  "kernelspec": {
   "display_name": "Python 3",
   "language": "python",
   "name": "python3"
  },
  "language_info": {
   "codemirror_mode": {
    "name": "ipython",
    "version": 3
   },
   "file_extension": ".py",
   "mimetype": "text/x-python",
   "name": "python",
   "nbconvert_exporter": "python",
   "pygments_lexer": "ipython3",
   "version": "3.7.4"
  },
  "toc": {
   "base_numbering": 1,
   "nav_menu": {},
   "number_sections": false,
   "sideBar": true,
   "skip_h1_title": false,
   "title_cell": "Table of Contents",
   "title_sidebar": "Contents",
   "toc_cell": false,
   "toc_position": {
    "height": "calc(100% - 180px)",
    "left": "10px",
    "top": "150px",
    "width": "218.705px"
   },
   "toc_section_display": true,
   "toc_window_display": false
  }
 },
 "nbformat": 4,
 "nbformat_minor": 2
}
