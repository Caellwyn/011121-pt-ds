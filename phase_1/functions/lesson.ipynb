{
 "cells": [
  {
   "cell_type": "markdown",
   "metadata": {},
   "source": [
    "# Intro to Functions"
   ]
  },
  {
   "cell_type": "markdown",
   "metadata": {},
   "source": [
    "**Why are functions useful?**\n",
    "- Speeds up the process\n",
    "    - Reusability\n",
    "        - We do not have to write the same code more than once\n",
    "- Functions can be imported into other files"
   ]
  },
  {
   "cell_type": "markdown",
   "metadata": {},
   "source": [
    "### Let's look at an example\n",
    "\n",
    "Below, let's write a function called `welcome_message` that prints the welcome message you received for day 1 of the bootcamp"
   ]
  },
  {
   "cell_type": "code",
   "execution_count": 1,
   "metadata": {
    "ExecuteTime": {
     "end_time": "2021-01-22T23:10:10.892660Z",
     "start_time": "2021-01-22T23:10:10.890066Z"
    }
   },
   "outputs": [],
   "source": [
    "string = 'this is a string'"
   ]
  },
  {
   "cell_type": "code",
   "execution_count": 4,
   "metadata": {
    "ExecuteTime": {
     "end_time": "2021-01-22T23:10:33.787778Z",
     "start_time": "2021-01-22T23:10:33.780928Z"
    }
   },
   "outputs": [
    {
     "ename": "TypeError",
     "evalue": "'str' object is not callable",
     "output_type": "error",
     "traceback": [
      "\u001b[0;31m---------------------------------------------------------------------------\u001b[0m",
      "\u001b[0;31mTypeError\u001b[0m                                 Traceback (most recent call last)",
      "\u001b[0;32m<ipython-input-4-cca1a4c8f771>\u001b[0m in \u001b[0;36m<module>\u001b[0;34m\u001b[0m\n\u001b[0;32m----> 1\u001b[0;31m \u001b[0mstring\u001b[0m\u001b[0;34m(\u001b[0m\u001b[0;36m1\u001b[0m\u001b[0;34m)\u001b[0m\u001b[0;34m\u001b[0m\u001b[0;34m\u001b[0m\u001b[0m\n\u001b[0m",
      "\u001b[0;31mTypeError\u001b[0m: 'str' object is not callable"
     ]
    }
   ],
   "source": [
    "string(1)"
   ]
  },
  {
   "cell_type": "code",
   "execution_count": 11,
   "metadata": {
    "ExecuteTime": {
     "end_time": "2021-01-22T23:16:05.263989Z",
     "start_time": "2021-01-22T23:16:05.260876Z"
    }
   },
   "outputs": [],
   "source": [
    "# How do we define a function?\n",
    "# How does a function send data back to us?\n",
    "\n",
    "def welcome_message():\n",
    "    message = ''':mega: Welcome to day 1 of Flatiron’s Data Science Bootcamp :mega:\n",
    "                Please be sure to check out your canvas homeroom page :house_with_garden: where your class calendar :calendar: can be found!\n",
    "                Course work has been published to each of you in your phase 1 course so if you’re eager to begin learning feel free to start working through some lessons! :sonicrun:\n",
    "                :arrow-right: One of your first tasks for this week is to sign up for a 1:1 with @Dara (she/her) and myself.\n",
    "                To sign up for a 1:1 with Dara click here\n",
    "                To sign up for a 1:1 with Joél (me) click here\n",
    "                Orientation begins at 6pm EST!\n",
    "                To join orientation, click here!\n",
    "                :eyes-right: Last but not least :eyes: it is a top priority that ya’ll know how to send me gifs in slack. To send gifs in slack, type /giphy + whatever key terms are most relevant to your mood, hit enter, and shuffle through the results until you find one that you like!\n",
    "                :chill-cat: Optional: Please respond in the thread below with a gif for how you’re feeling today :chill-cat:'''\n",
    "    return message\n",
    "    "
   ]
  },
  {
   "cell_type": "code",
   "execution_count": 12,
   "metadata": {
    "ExecuteTime": {
     "end_time": "2021-01-22T23:16:06.870849Z",
     "start_time": "2021-01-22T23:16:06.868564Z"
    }
   },
   "outputs": [],
   "source": [
    "variable = welcome_message()"
   ]
  },
  {
   "cell_type": "code",
   "execution_count": 13,
   "metadata": {
    "ExecuteTime": {
     "end_time": "2021-01-22T23:16:11.487148Z",
     "start_time": "2021-01-22T23:16:11.483817Z"
    }
   },
   "outputs": [
    {
     "data": {
      "text/plain": [
       "str"
      ]
     },
     "execution_count": 13,
     "metadata": {},
     "output_type": "execute_result"
    }
   ],
   "source": [
    "type(variable)"
   ]
  },
  {
   "cell_type": "code",
   "execution_count": 15,
   "metadata": {
    "ExecuteTime": {
     "end_time": "2021-01-22T23:16:18.824318Z",
     "start_time": "2021-01-22T23:16:18.820968Z"
    }
   },
   "outputs": [
    {
     "name": "stdout",
     "output_type": "stream",
     "text": [
      ":mega: Welcome to day 1 of Flatiron’s Data Science Bootcamp :mega:\n",
      "                Please be sure to check out your canvas homeroom page :house_with_garden: where your class calendar :calendar: can be found!\n",
      "                Course work has been published to each of you in your phase 1 course so if you’re eager to begin learning feel free to start working through some lessons! :sonicrun:\n",
      "                :arrow-right: One of your first tasks for this week is to sign up for a 1:1 with @Dara (she/her) and myself.\n",
      "                To sign up for a 1:1 with Dara click here\n",
      "                To sign up for a 1:1 with Max (me) click here\n",
      "                Orientation begins at 6pm EST!\n",
      "                To join orientation, click here!\n",
      "                :eyes-right: Last but not least :eyes: it is a top priority that ya’ll know how to send me gifs in slack. To send gifs in slack, type /giphy + whatever key terms are most relevant to your mood, hit enter, and shuffle through the results until you find one that you like!\n",
      "                :chill-cat: Optional: Please respond in the thread below with a gif for how you’re feeling today :chill-cat:\n"
     ]
    }
   ],
   "source": [
    "print(variable.replace('Joél', 'Max'))"
   ]
  },
  {
   "cell_type": "markdown",
   "metadata": {},
   "source": [
    "What if I wanted to edit the message that is output from the `welcome_message` function?"
   ]
  },
  {
   "cell_type": "code",
   "execution_count": null,
   "metadata": {},
   "outputs": [],
   "source": [
    "# How do we edit the message?"
   ]
  },
  {
   "cell_type": "markdown",
   "metadata": {},
   "source": [
    "Let's make a function called `even_numbers` that takes an array of numbers and returns an array that only contains the even numbers from the original array."
   ]
  },
  {
   "cell_type": "code",
   "execution_count": 17,
   "metadata": {
    "ExecuteTime": {
     "end_time": "2021-01-22T23:20:10.829584Z",
     "start_time": "2021-01-22T23:20:10.824301Z"
    }
   },
   "outputs": [
    {
     "name": "stdout",
     "output_type": "stream",
     "text": [
      "[2, 4, 6, 8]\n",
      "[94, 294, 5938]\n",
      "[]\n"
     ]
    }
   ],
   "source": [
    "# Your code here\n",
    "def even_numbers(array):\n",
    "    evens = []\n",
    "    for item in array:\n",
    "        if item % 2 == 0:\n",
    "            evens.append(item)\n",
    "    return evens\n",
    "\n",
    "print(even_numbers([1,2,3,4,5,6,7,8,9])) # [2,4,6,8]\n",
    "print(even_numbers([5,94,294,5938,21,1])) # [94, 294, 5938]\n",
    "print(even_numbers([1,1,1,1,1,1,1,1])) # []"
   ]
  },
  {
   "cell_type": "markdown",
   "metadata": {},
   "source": [
    "# Create a Program\n",
    "Now let's use our function skills to create a program that asks for a series of alphabetic characters and whether we would like to calculate the mean, median, or mode. Once those inputs have been received, the program translates each character into an integer and outputs a histogram of those numbers with a v-line denoting the requested statistic.\n",
    "\n",
    "![](app.gif)\n",
    "\n",
    "### Tasks\n",
    "We are tasked with creating the following functions:\n",
    "\n",
    "1. **mean**\n",
    "    - A function that recieves an array of numbers, and returns the average.\n",
    "2. **median**\n",
    "    - A function that receives an array of numbers, and returns the middle value.\n",
    "3. **mode**\n",
    "    - A function that receives an array of numbers and returns the most common value. \n",
    "    \n",
    "4. **initialize**\n",
    "    - A function that provides a user an opening prompt and receives their inputs.\n",
    "5. **letters_to_numbers**\n",
    "    - A function that takes a series of letters and returns an array of numbers.\n",
    "6. **visualize**\n",
    "    - A function that receives an array of numbers and statistic and outputs a histogram of the array with a v-line for the given statistic.\n",
    "7. **main**\n",
    "    - A function that runs the program. "
   ]
  },
  {
   "cell_type": "markdown",
   "metadata": {},
   "source": [
    "**The following dataset maps letters to numbers, and should be used in the `letters_to_numbers` function.**"
   ]
  },
  {
   "cell_type": "code",
   "execution_count": 18,
   "metadata": {
    "ExecuteTime": {
     "end_time": "2021-01-22T23:22:38.238733Z",
     "start_time": "2021-01-22T23:22:38.232536Z"
    },
    "code_folding": []
   },
   "outputs": [],
   "source": [
    "## Letter Map Dataset\n",
    "\n",
    "letter_map = {'a': 0, 'b': 1, 'c': 2, 'd': 3,\n",
    "             'e': 4, 'f': 5, 'g': 6, 'h': 7,\n",
    "             'i': 8, 'j': 9, 'k': 10,'l': 11,\n",
    "             'm': 12,'n': 13,'o': 14,'p': 15,\n",
    "             'q': 16,'r': 17,'s': 18,'t': 19,\n",
    "             'u': 20,'v': 21,'w': 22,'x': 23,\n",
    "             'y': 24,'z': 25,'A': 26,'B': 27,\n",
    "             'C': 28,'D': 29,'E': 30,'F': 31,\n",
    "             'G': 32,'H': 33,'I': 34,'J': 35,\n",
    "             'K': 36,'L': 37,'M': 38,'N': 39,\n",
    "             'O': 40,'P': 41,'Q': 42,'R': 43,\n",
    "             'S': 44,'T': 45,'U': 46,'V': 47,\n",
    "             'W': 48,'X': 49,'Y': 50,'Z': 51}"
   ]
  },
  {
   "cell_type": "markdown",
   "metadata": {
    "heading_collapsed": true
   },
   "source": [
    "## Let's create the `mean`, `median`, and `mode` function together."
   ]
  },
  {
   "cell_type": "code",
   "execution_count": null,
   "metadata": {
    "hidden": true
   },
   "outputs": [],
   "source": [
    "def mean(array):\n",
    "    ### Calculate the sum of the array\n",
    "    \n",
    "    # YOUR CODE HERE\n",
    "    total = sum(array)\n",
    "    ### Calculate the length of the array\n",
    "    # YOUR CODE HERE\n",
    "    length = len(array)\n",
    "    ### Return the sum/length\n",
    "    \n",
    "    # YOUR CODE HERE  \n",
    "    return total/length\n",
    "\n",
    "def median(array):\n",
    "    ### Sort the array\n",
    "    # YOUR CODE HERE\n",
    "    array = sorted(array)\n",
    "    ### Check if the length is divisible by 2\n",
    "    \n",
    "    # YOUR CODE HERE\n",
    "    if len(array) % 2 == 0:\n",
    "        ### Find the middle value for the length of the array-1\n",
    "        half = (len(array)-1)//2\n",
    "        # YOUR CODE HERE\n",
    "        ### Collect the two middle values\n",
    "        # YOUR CODE HERE\n",
    "        center = array[half:half + 2]\n",
    "        ### Find the mean of the two middle values\n",
    "        \n",
    "        # YOUR CODE HERE\n",
    "        median = mean(center)\n",
    "    ### If the length of the array is odd\n",
    "    else:\n",
    "        ### Find the center index\n",
    "        \n",
    "        # YOUR CODE HERE\n",
    "        half = len(array)//2\n",
    "        ### Index the array for the median value\n",
    "        \n",
    "        # YOUR CODE HERE\n",
    "        median = array[half]\n",
    "        \n",
    "    ### Return the median\n",
    "    # YOUR CODE HERE\n",
    "    return median\n",
    "\n",
    "def mode(array):\n",
    "    ### Create an empty dictionary\n",
    "    # YOUR CODE HERE\n",
    "    counts = {}\n",
    "    ### Loop over each number in the array\n",
    "    for val in array:\n",
    "    # YOUR CODE HERE\n",
    "        \n",
    "        ### If the number is in the dictionary\n",
    "        ### add one to the count\n",
    "        ### If the number is not in the dictionary\n",
    "        ### Add the number with a value of 1\n",
    "        if val in counts:\n",
    "            counts[val] +=1\n",
    "        # YOUR CODE HERE\n",
    "        else:\n",
    "            counts[val] = 1\n",
    "    ### Find the number with the highest count \n",
    "    # YOUR CODE HERE\n",
    "    sort = sorted(counts.items(), key=lambda x: x[1], reverse=True)\n",
    "    ### Return the mode\n",
    "    \n",
    "    # YOUR CODE HERE\n",
    "    return sort[0][0]"
   ]
  },
  {
   "cell_type": "markdown",
   "metadata": {
    "ExecuteTime": {
     "end_time": "2021-01-17T19:19:17.602476Z",
     "start_time": "2021-01-17T19:19:17.600317Z"
    },
    "hidden": true
   },
   "source": [
    "### `mean`"
   ]
  },
  {
   "cell_type": "code",
   "execution_count": 19,
   "metadata": {
    "ExecuteTime": {
     "end_time": "2021-01-22T23:24:17.686091Z",
     "start_time": "2021-01-22T23:24:17.682794Z"
    },
    "hidden": true
   },
   "outputs": [],
   "source": [
    "def mean(array):\n",
    "    ### Calculate the sum of the array\n",
    "    \n",
    "    # YOUR CODE HERE\n",
    "    total = sum(array)\n",
    "    ### Calculate the length of the array\n",
    "    # YOUR CODE HERE\n",
    "    length = len(array)\n",
    "    ### Return the sum/length\n",
    "    \n",
    "    # YOUR CODE HERE  \n",
    "    return total/length"
   ]
  },
  {
   "cell_type": "markdown",
   "metadata": {
    "hidden": true
   },
   "source": [
    "### `median`"
   ]
  },
  {
   "cell_type": "code",
   "execution_count": 20,
   "metadata": {
    "ExecuteTime": {
     "end_time": "2021-01-22T23:27:53.757563Z",
     "start_time": "2021-01-22T23:27:53.752910Z"
    },
    "hidden": true
   },
   "outputs": [],
   "source": [
    "def median(array):\n",
    "    ### Sort the array\n",
    "    # YOUR CODE HERE\n",
    "    array = sorted(array)\n",
    "    ### Check if the length is divisible by 2\n",
    "    \n",
    "    # YOUR CODE HERE\n",
    "    if len(array) % 2 == 0:\n",
    "        ### Find the middle value for the length of the array-1\n",
    "        half = (len(array)-1)//2\n",
    "        # YOUR CODE HERE\n",
    "        ### Collect the two middle values\n",
    "        # YOUR CODE HERE\n",
    "        center = array[half:half + 2]\n",
    "        ### Find the mean of the two middle values\n",
    "        \n",
    "        # YOUR CODE HERE\n",
    "        median = mean(center)\n",
    "    ### If the length of the array is odd\n",
    "    else:\n",
    "        ### Find the center index\n",
    "        \n",
    "        # YOUR CODE HERE\n",
    "        half = len(array)//2\n",
    "        ### Index the array for the median value\n",
    "        \n",
    "        # YOUR CODE HERE\n",
    "        median = array[half]\n",
    "        \n",
    "    ### Return the median\n",
    "    # YOUR CODE HERE\n",
    "    return median"
   ]
  },
  {
   "cell_type": "markdown",
   "metadata": {
    "hidden": true
   },
   "source": [
    "### `mode`"
   ]
  },
  {
   "cell_type": "code",
   "execution_count": 21,
   "metadata": {
    "ExecuteTime": {
     "end_time": "2021-01-22T23:31:27.193231Z",
     "start_time": "2021-01-22T23:31:27.188995Z"
    },
    "code_folding": [],
    "hidden": true
   },
   "outputs": [],
   "source": [
    "def mode(array):\n",
    "    ### Create an empty dictionary\n",
    "    # YOUR CODE HERE\n",
    "    counts = {}\n",
    "    ### Loop over each number in the array\n",
    "    for val in array:\n",
    "    # YOUR CODE HERE\n",
    "        \n",
    "        ### If the number is in the dictionary\n",
    "        ### add one to the count\n",
    "        ### If the number is not in the dictionary\n",
    "        ### Add the number with a value of 1\n",
    "        if val in counts:\n",
    "            counts[val] +=1\n",
    "        # YOUR CODE HERE\n",
    "        else:\n",
    "            counts[val] = 1\n",
    "    ### Find the number with the highest count \n",
    "    # YOUR CODE HERE\n",
    "    sort = sorted(counts.items(), key=lambda x: x[1], reverse=True)\n",
    "    ### Return the mode\n",
    "    \n",
    "    # YOUR CODE HERE\n",
    "    return sort[0][0]"
   ]
  },
  {
   "cell_type": "markdown",
   "metadata": {
    "hidden": true
   },
   "source": [
    "### Using Python's `input` function"
   ]
  },
  {
   "cell_type": "code",
   "execution_count": 22,
   "metadata": {
    "ExecuteTime": {
     "end_time": "2021-01-22T23:32:51.089042Z",
     "start_time": "2021-01-22T23:32:35.374513Z"
    },
    "hidden": true
   },
   "outputs": [
    {
     "name": "stdout",
     "output_type": "stream",
     "text": [
      "What is your name? Joel\n"
     ]
    }
   ],
   "source": [
    "user_input = input('What is your name? ')"
   ]
  },
  {
   "cell_type": "code",
   "execution_count": 23,
   "metadata": {
    "ExecuteTime": {
     "end_time": "2021-01-22T23:32:58.598759Z",
     "start_time": "2021-01-22T23:32:58.595003Z"
    },
    "hidden": true
   },
   "outputs": [
    {
     "data": {
      "text/plain": [
       "'Joel'"
      ]
     },
     "execution_count": 23,
     "metadata": {},
     "output_type": "execute_result"
    }
   ],
   "source": [
    "user_input"
   ]
  },
  {
   "cell_type": "markdown",
   "metadata": {
    "hidden": true
   },
   "source": [
    "### Returning multiple values"
   ]
  },
  {
   "cell_type": "code",
   "execution_count": 24,
   "metadata": {
    "ExecuteTime": {
     "end_time": "2021-01-22T23:34:01.043432Z",
     "start_time": "2021-01-22T23:34:01.039262Z"
    },
    "hidden": true
   },
   "outputs": [
    {
     "data": {
      "text/plain": [
       "(1, 2)"
      ]
     },
     "execution_count": 24,
     "metadata": {},
     "output_type": "execute_result"
    }
   ],
   "source": [
    "def return_one_two():\n",
    "    return 1, 2\n",
    "\n",
    "one, two = return_one_two()\n",
    "\n",
    "(one, two)"
   ]
  },
  {
   "cell_type": "markdown",
   "metadata": {},
   "source": [
    "## Please write the remaining functions"
   ]
  },
  {
   "cell_type": "markdown",
   "metadata": {},
   "source": [
    "### Create the `initialize` function"
   ]
  },
  {
   "cell_type": "code",
   "execution_count": 31,
   "metadata": {
    "ExecuteTime": {
     "end_time": "2021-01-25T14:09:47.811129Z",
     "start_time": "2021-01-25T14:09:42.129612Z"
    }
   },
   "outputs": [
    {
     "name": "stdout",
     "output_type": "stream",
     "text": [
      "Something here\n",
      "\n",
      "yes\n"
     ]
    }
   ],
   "source": [
    "example = input('''Something here\n",
    "\n",
    "''')"
   ]
  },
  {
   "cell_type": "code",
   "execution_count": 47,
   "metadata": {
    "ExecuteTime": {
     "end_time": "2021-01-25T14:15:28.724901Z",
     "start_time": "2021-01-25T14:15:28.721365Z"
    }
   },
   "outputs": [],
   "source": [
    "# YOUR CODE HERE\n",
    "def initialize():\n",
    "    characters = input('''Please type a random series of letters.\n",
    "                        \n",
    "                       ''')\n",
    "    statistic_number = input('''Would you like the\n",
    "    \n",
    "    1) Mean\n",
    "    2) Median\n",
    "    3) Mode\n",
    "    \n",
    "    Please enter the number for the statistic you'd like to report.\n",
    "    \n",
    "    ''')\n",
    "    \n",
    "    statistic_number = int(statistic_number)\n",
    "    \n",
    "    if statistic_number == 1:\n",
    "        stat = 'mean'\n",
    "    elif statistic_number == 2:\n",
    "        stat = 'median'\n",
    "    else:\n",
    "        stat = 'mode'\n",
    "        \n",
    "    return characters, stat"
   ]
  },
  {
   "cell_type": "code",
   "execution_count": 75,
   "metadata": {
    "ExecuteTime": {
     "end_time": "2021-01-25T14:28:49.537810Z",
     "start_time": "2021-01-25T14:28:49.534625Z"
    }
   },
   "outputs": [
    {
     "data": {
      "text/plain": [
       "KeyError('Something')"
      ]
     },
     "execution_count": 75,
     "metadata": {},
     "output_type": "execute_result"
    }
   ],
   "source": [
    "KeyError('Something')"
   ]
  },
  {
   "cell_type": "markdown",
   "metadata": {},
   "source": [
    "### Create the `letters_to_numbers` function"
   ]
  },
  {
   "cell_type": "code",
   "execution_count": 87,
   "metadata": {
    "ExecuteTime": {
     "end_time": "2021-01-25T14:40:09.969884Z",
     "start_time": "2021-01-25T14:40:09.966533Z"
    }
   },
   "outputs": [],
   "source": [
    "# YOUR CODE HERE\n",
    "def letters_to_numbers(letters):\n",
    "    numbers = []\n",
    "    for letter in letters:\n",
    "        try:\n",
    "            numbers.append(letter_map[letter])\n",
    "        except KeyError:\n",
    "            raise KeyError('Please avoid using punctuation or numerical characters.')\n",
    "    return numbers"
   ]
  },
  {
   "cell_type": "code",
   "execution_count": 88,
   "metadata": {
    "ExecuteTime": {
     "end_time": "2021-01-25T14:40:11.632579Z",
     "start_time": "2021-01-25T14:40:11.620400Z"
    }
   },
   "outputs": [
    {
     "ename": "KeyError",
     "evalue": "'Please avoid using punctuation or numerical characters.'",
     "output_type": "error",
     "traceback": [
      "\u001b[0;31m---------------------------------------------------------------------------\u001b[0m",
      "\u001b[0;31mKeyError\u001b[0m                                  Traceback (most recent call last)",
      "\u001b[0;32m<ipython-input-87-a50e983cda02>\u001b[0m in \u001b[0;36mletters_to_numbers\u001b[0;34m(letters)\u001b[0m\n\u001b[1;32m      5\u001b[0m         \u001b[0;32mtry\u001b[0m\u001b[0;34m:\u001b[0m\u001b[0;34m\u001b[0m\u001b[0;34m\u001b[0m\u001b[0m\n\u001b[0;32m----> 6\u001b[0;31m             \u001b[0mnumbers\u001b[0m\u001b[0;34m.\u001b[0m\u001b[0mappend\u001b[0m\u001b[0;34m(\u001b[0m\u001b[0mletter_map\u001b[0m\u001b[0;34m[\u001b[0m\u001b[0mletter\u001b[0m\u001b[0;34m]\u001b[0m\u001b[0;34m)\u001b[0m\u001b[0;34m\u001b[0m\u001b[0;34m\u001b[0m\u001b[0m\n\u001b[0m\u001b[1;32m      7\u001b[0m         \u001b[0;32mexcept\u001b[0m \u001b[0mKeyError\u001b[0m\u001b[0;34m:\u001b[0m\u001b[0;34m\u001b[0m\u001b[0;34m\u001b[0m\u001b[0m\n",
      "\u001b[0;31mKeyError\u001b[0m: '.'",
      "\nDuring handling of the above exception, another exception occurred:\n",
      "\u001b[0;31mKeyError\u001b[0m                                  Traceback (most recent call last)",
      "\u001b[0;32m<ipython-input-88-c3c5b08de8a1>\u001b[0m in \u001b[0;36m<module>\u001b[0;34m\u001b[0m\n\u001b[0;32m----> 1\u001b[0;31m \u001b[0mletters_to_numbers\u001b[0m\u001b[0;34m(\u001b[0m\u001b[0;34m'fhjsdkfjsdhxjfsdk.'\u001b[0m\u001b[0;34m)\u001b[0m\u001b[0;34m\u001b[0m\u001b[0;34m\u001b[0m\u001b[0m\n\u001b[0m",
      "\u001b[0;32m<ipython-input-87-a50e983cda02>\u001b[0m in \u001b[0;36mletters_to_numbers\u001b[0;34m(letters)\u001b[0m\n\u001b[1;32m      6\u001b[0m             \u001b[0mnumbers\u001b[0m\u001b[0;34m.\u001b[0m\u001b[0mappend\u001b[0m\u001b[0;34m(\u001b[0m\u001b[0mletter_map\u001b[0m\u001b[0;34m[\u001b[0m\u001b[0mletter\u001b[0m\u001b[0;34m]\u001b[0m\u001b[0;34m)\u001b[0m\u001b[0;34m\u001b[0m\u001b[0;34m\u001b[0m\u001b[0m\n\u001b[1;32m      7\u001b[0m         \u001b[0;32mexcept\u001b[0m \u001b[0mKeyError\u001b[0m\u001b[0;34m:\u001b[0m\u001b[0;34m\u001b[0m\u001b[0;34m\u001b[0m\u001b[0m\n\u001b[0;32m----> 8\u001b[0;31m             \u001b[0;32mraise\u001b[0m \u001b[0mKeyError\u001b[0m\u001b[0;34m(\u001b[0m\u001b[0;34m'Please avoid using punctuation or numerical characters.'\u001b[0m\u001b[0;34m)\u001b[0m\u001b[0;34m\u001b[0m\u001b[0;34m\u001b[0m\u001b[0m\n\u001b[0m\u001b[1;32m      9\u001b[0m     \u001b[0;32mreturn\u001b[0m \u001b[0mnumbers\u001b[0m\u001b[0;34m\u001b[0m\u001b[0;34m\u001b[0m\u001b[0m\n",
      "\u001b[0;31mKeyError\u001b[0m: 'Please avoid using punctuation or numerical characters.'"
     ]
    }
   ],
   "source": [
    "letters_to_numbers('fhjsdkfjsdhxjfsdk.')"
   ]
  },
  {
   "cell_type": "markdown",
   "metadata": {},
   "source": [
    "### Create the `visualize` function"
   ]
  },
  {
   "cell_type": "code",
   "execution_count": 72,
   "metadata": {
    "ExecuteTime": {
     "end_time": "2021-01-25T14:26:45.682085Z",
     "start_time": "2021-01-25T14:26:45.678545Z"
    }
   },
   "outputs": [],
   "source": [
    "# YOUR CODE HERE\n",
    "import matplotlib.pyplot as plt\n",
    "def visualize(array, stat):\n",
    "    fig, ax = plt.subplots()\n",
    "    ax.hist(array)\n",
    "    ax.axvline(stat, linewidth=5, color='red')"
   ]
  },
  {
   "cell_type": "code",
   "execution_count": 73,
   "metadata": {
    "ExecuteTime": {
     "end_time": "2021-01-25T14:26:46.279167Z",
     "start_time": "2021-01-25T14:26:46.055048Z"
    }
   },
   "outputs": [
    {
     "data": {
      "image/png": "[encoded data removed]",
      "text/plain": [
       "<Figure size 432x288 with 1 Axes>"
      ]
     },
     "metadata": {
      "needs_background": "light"
     },
     "output_type": "display_data"
    }
   ],
   "source": [
    "example =  letters_to_numbers('fhjdskfhdjskfjhss')\n",
    "example_mean = mean(example)\n",
    "visualize(example, example_mean)"
   ]
  },
  {
   "cell_type": "markdown",
   "metadata": {},
   "source": [
    "### Create the `main` function"
   ]
  },
  {
   "cell_type": "code",
   "execution_count": 70,
   "metadata": {
    "ExecuteTime": {
     "end_time": "2021-01-25T14:26:07.967592Z",
     "start_time": "2021-01-25T14:26:07.963844Z"
    }
   },
   "outputs": [],
   "source": [
    "# YOUR CODE HERE\n",
    "def main():\n",
    "    characters, stat = initialize()\n",
    "    numbers = letters_to_numbers(characters)\n",
    "    \n",
    "    if stat == 'mean':\n",
    "        stat = mean(numbers)\n",
    "    elif stat == 'median':\n",
    "        stat = median(numbers)\n",
    "    else:\n",
    "        stat = mode(numbers)\n",
    "        \n",
    "    visualize(numbers, stat)"
   ]
  },
  {
   "cell_type": "markdown",
   "metadata": {},
   "source": [
    "## Test your work"
   ]
  },
  {
   "cell_type": "code",
   "execution_count": 74,
   "metadata": {
    "ExecuteTime": {
     "end_time": "2021-01-25T14:26:54.516429Z",
     "start_time": "2021-01-25T14:26:50.623746Z"
    }
   },
   "outputs": [
    {
     "name": "stdout",
     "output_type": "stream",
     "text": [
      "Please type a random series of letters.\n",
      "                        \n",
      "                       hjkghjhfgj\n",
      "Would you like the\n",
      "    \n",
      "    1) Mean\n",
      "    2) Median\n",
      "    3) Mode\n",
      "    \n",
      "    Please enter the number for the statistic you'd like to report.\n",
      "    \n",
      "    2\n"
     ]
    },
    {
     "data": {
      "image/png": "[encoded data removed]",
      "text/plain": [
       "<Figure size 432x288 with 1 Axes>"
      ]
     },
     "metadata": {
      "needs_background": "light"
     },
     "output_type": "display_data"
    }
   ],
   "source": [
    "main()"
   ]
  },
  {
   "cell_type": "code",
   "execution_count": null,
   "metadata": {},
   "outputs": [],
   "source": []
  }
 ],
 "metadata": {
  "kernelspec": {
   "display_name": "Python 3",
   "language": "python",
   "name": "python3"
  },
  "language_info": {
   "codemirror_mode": {
    "name": "ipython",
    "version": 3
   },
   "file_extension": ".py",
   "mimetype": "text/x-python",
   "name": "python",
   "nbconvert_exporter": "python",
   "pygments_lexer": "ipython3",
   "version": "3.7.4"
  },
  "toc": {
   "base_numbering": 1,
   "nav_menu": {},
   "number_sections": false,
   "sideBar": true,
   "skip_h1_title": false,
   "title_cell": "Table of Contents",
   "title_sidebar": "Contents",
   "toc_cell": false,
   "toc_position": {
    "height": "calc(100% - 180px)",
    "left": "10px",
    "top": "150px",
    "width": "218.705px"
   },
   "toc_section_display": true,
   "toc_window_display": false
  }
 },
 "nbformat": 4,
 "nbformat_minor": 2
}
