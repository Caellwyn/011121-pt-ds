{
 "cells": [
  {
   "cell_type": "markdown",
   "metadata": {},
   "source": [
    "# Pandas Practice Pt 2\n",
    "\n",
    "<u><b>Agenda</b></u>\n",
    "\n",
    "Today we will continue to practice and familiarize ourselves with data manipulation using the Pandas Python package.\n",
    "\n",
    "To demonstrate merging datasets with pandas, we will import data for the [1896-2014 Summer Olympic Games](https://www.kaggle.com/the-guardian/olympic-games) and use the [groupby](https://pandas.pydata.org/pandas-docs/stable/reference/api/pandas.DataFrame.groupby.html) & [pivot](https://pandas.pydata.org/pandas-docs/stable/reference/api/pandas.DataFrame.pivot.html) methods to answer some question about the data. \n",
    "\n",
    "Then we will import movie data and try to answer some question using pandas. For these datasets, students will be split into breakout rooms and given tasks to complete using a pair programming styled collaboration. \n",
    "\n",
    "<u>Our first step is to import the packages we will need for this lesson:</u>"
   ]
  },
  {
   "cell_type": "code",
   "execution_count": null,
   "metadata": {
    "ExecuteTime": {
     "end_time": "2021-01-29T20:15:31.118519Z",
     "start_time": "2021-01-29T20:15:30.432296Z"
    }
   },
   "outputs": [],
   "source": [
    "# Data Manipulation\n",
    "import pandas as pd\n",
    "\n",
    "# Edit import path so \n",
    "# custom functions can be imported\n",
    "import sys\n",
    "sys.path.append('../../')\n",
    "import os\n",
    "\n",
    "# Custom functions used for visualization\n",
    "from src import helpers\n",
    "\n",
    "# Plotting libraries\n",
    "import matplotlib.pyplot as plt"
   ]
  },
  {
   "cell_type": "markdown",
   "metadata": {},
   "source": [
    "Next, we import the olympics dataset from the top level data folder. "
   ]
  },
  {
   "cell_type": "code",
   "execution_count": null,
   "metadata": {
    "ExecuteTime": {
     "end_time": "2020-12-02T14:34:44.864189Z",
     "start_time": "2020-12-02T14:34:44.839997Z"
    }
   },
   "outputs": [],
   "source": [
    "data_path = os.path.join(os.pardir, os.pardir, 'data')\n",
    "path = os.path.join(data_path, 'olympics_join_table.csv')\n",
    "join_table = pd.read_csv(path)\n",
    "join_table.head()"
   ]
  },
  {
   "cell_type": "markdown",
   "metadata": {},
   "source": [
    "This table, on its own, is not very useful. The ids in this table reference data in other tables and can be used for merging datasets.\n",
    "\n",
    "**Below is a visualization of how these data are structured.**\n",
    "\n",
    "![Schema of olympics dataset](../../static/olympics_schema.png)\n",
    "\n",
    "The idea is that we can use this join table to merge all of the connecting tables into a single dataset!\n",
    "\n",
    "<u>Below, we import the `locations`, `events`, `athletes`, and `results` tables.</u>"
   ]
  },
  {
   "cell_type": "code",
   "execution_count": null,
   "metadata": {
    "ExecuteTime": {
     "end_time": "2020-12-01T21:50:04.731298Z",
     "start_time": "2020-12-01T21:50:04.689607Z"
    }
   },
   "outputs": [],
   "source": [
    "locations = pd.read_csv(os.path.join(data_path, 'olympics_locations.csv'))\n",
    "events = pd.read_csv(os.path.join(data_path, 'olympics_events.csv'))\n",
    "athletes = pd.read_csv(os.path.join(data_path,'olympics_athletes.csv'))\n",
    "results = pd.read_csv(os.path.join(data_path, 'olympics_results.csv'))\n",
    "dataframes = [locations.head(3), events.head(3), athletes.head(3), results.head(3)]\n",
    "names=['locations', 'events','athletes', 'results']\n",
    "helpers.side_by_side(dataframes, names)"
   ]
  },
  {
   "cell_type": "markdown",
   "metadata": {},
   "source": [
    "### Task 1\n",
    "\n",
    "- Using the join table, merge all of the olympics datasets into a single table. \n",
    "- Save the merged table as the variable `olympics`.\n",
    "- Drop the id columns"
   ]
  },
  {
   "cell_type": "code",
   "execution_count": null,
   "metadata": {},
   "outputs": [],
   "source": [
    "# Your code here"
   ]
  },
  {
   "cell_type": "markdown",
   "metadata": {},
   "source": [
    "### Task 2\n",
    "\n",
    "Using the `.groupby` method, create a dataframe called `number_of_medals` that counts the number of gold, silver, and bronze medals each county earned for a given year. \n",
    "\n",
    "The beginning of the produced dataframe should look like this:\n",
    "\n",
    "|  | Country|Year|Medal|Count|\n",
    "|--|--------|----|-----|-----|\n",
    "|0 | AFG|2008|Bronze|1|\n",
    "|1|AFG|2012|Bronze|1|\n",
    "|2|AHO|1988|Silver|1|"
   ]
  },
  {
   "cell_type": "code",
   "execution_count": null,
   "metadata": {},
   "outputs": [],
   "source": [
    "# Your code here"
   ]
  },
  {
   "cell_type": "markdown",
   "metadata": {},
   "source": [
    "### Task 3\n",
    "Let's calculate the average number of medals each country tends to earn. Let's take a look at the distribution of number of medals earned for all countries so we can idenify which calculation is best suited for observing the average for these data. "
   ]
  },
  {
   "cell_type": "code",
   "execution_count": 273,
   "metadata": {
    "ExecuteTime": {
     "end_time": "2021-01-29T21:42:16.831324Z",
     "start_time": "2021-01-29T21:42:16.828931Z"
    }
   },
   "outputs": [],
   "source": [
    "# Your code here"
   ]
  },
  {
   "cell_type": "markdown",
   "metadata": {},
   "source": [
    "Based on this visualization, it doesn't make sense to use the mean for these data. It looks like there are a few years certain countries earned an unusually high number of medals. To avoid these outliers overly impacting the average, we will calculate the median instead. "
   ]
  },
  {
   "cell_type": "markdown",
   "metadata": {},
   "source": [
    "### Task 4\n",
    "\n",
    "In the cell(s) below, using groupby to calculate the median number of medals a country earns across all years and sort in descending order to return the 5 countries with the highest median Gold Medal Count.\n",
    "\n",
    "The dataframe should look like this:\n",
    "\n",
    "|  | Country|Medal|Count|\n",
    "|--|--------|----|-----|\n",
    "|101| EUN|Gold|92.0|\n",
    "|327|AFG|Gold|78.5|\n",
    "|117|AHO|Gold|75.0|"
   ]
  },
  {
   "cell_type": "code",
   "execution_count": null,
   "metadata": {},
   "outputs": [],
   "source": [
    "# Your code here"
   ]
  },
  {
   "cell_type": "markdown",
   "metadata": {
    "ExecuteTime": {
     "end_time": "2020-12-01T19:24:16.263737Z",
     "start_time": "2020-12-01T19:24:16.229267Z"
    }
   },
   "source": [
    "### Task 5\n",
    "\n",
    "Create a pivot table to identify which Athlete has the most Gold Medals. "
   ]
  },
  {
   "cell_type": "code",
   "execution_count": null,
   "metadata": {},
   "outputs": [],
   "source": [
    "# Your code here"
   ]
  },
  {
   "cell_type": "markdown",
   "metadata": {},
   "source": [
    "# Breakout Room Tasks\n",
    "\n",
    "Below we import two datasets:\n",
    "1. [Box Office Mojo](https://www.boxofficemojo.com/) Revenue Data \n",
    "    - We will save this dataset under the variable `box_office`.\n",
    "\n",
    "2. [Imdb](https://www.imdb.com/interfaces/) title data.\n",
    "    - We will save this dataset under the variable `titles`."
   ]
  },
  {
   "cell_type": "code",
   "execution_count": 281,
   "metadata": {
    "ExecuteTime": {
     "end_time": "2021-01-29T21:48:18.665858Z",
     "start_time": "2021-01-29T21:48:18.364271Z"
    }
   },
   "outputs": [],
   "source": [
    "box_office_path = os.path.join(data_path, 'movie_gross.csv.gz')\n",
    "box_office = pd.read_csv(box_office_path)\n",
    "\n",
    "titles_path = os.path.join(data_path, 'imdb_titles.csv.gz')\n",
    "titles = pd.read_csv(titles_path)"
   ]
  },
  {
   "cell_type": "markdown",
   "metadata": {},
   "source": [
    "### Task 6\n",
    "\n",
    "Identify the ten movie studios that have produced the most films without a foreign release\n",
    "   - Save these names in a list called `high_domestic_release`."
   ]
  },
  {
   "cell_type": "code",
   "execution_count": 283,
   "metadata": {
    "ExecuteTime": {
     "end_time": "2021-01-29T21:48:19.108782Z",
     "start_time": "2021-01-29T21:48:19.106786Z"
    }
   },
   "outputs": [],
   "source": [
    "# Your code here"
   ]
  },
  {
   "cell_type": "markdown",
   "metadata": {},
   "source": [
    "### Task 7\n",
    "Identify the average foriegn gross for studios with the highest domestic release. "
   ]
  },
  {
   "cell_type": "code",
   "execution_count": 285,
   "metadata": {
    "ExecuteTime": {
     "end_time": "2021-01-29T21:48:20.013981Z",
     "start_time": "2021-01-29T21:48:20.011593Z"
    }
   },
   "outputs": [],
   "source": [
    "# Your code here"
   ]
  },
  {
   "cell_type": "markdown",
   "metadata": {},
   "source": [
    "### Task 8\n",
    "Merge the `box_office` and `titles` tables."
   ]
  },
  {
   "cell_type": "code",
   "execution_count": 287,
   "metadata": {
    "ExecuteTime": {
     "end_time": "2021-01-29T21:48:21.175004Z",
     "start_time": "2021-01-29T21:48:21.172734Z"
    }
   },
   "outputs": [],
   "source": [
    "# Your code here"
   ]
  },
  {
   "cell_type": "markdown",
   "metadata": {},
   "source": [
    "### Task 9\n",
    "\n",
    "Calculate the average run time."
   ]
  },
  {
   "cell_type": "code",
   "execution_count": 289,
   "metadata": {
    "ExecuteTime": {
     "end_time": "2021-01-29T21:48:22.213857Z",
     "start_time": "2021-01-29T21:48:22.211512Z"
    }
   },
   "outputs": [],
   "source": [
    "# Your code here"
   ]
  },
  {
   "cell_type": "markdown",
   "metadata": {},
   "source": [
    "### Task 10\n",
    "\n",
    "There are many different combinations of genres in our dataset.\n",
    "\n",
    "Your task is to identify which 10 combinations have the highest average domestic gross."
   ]
  },
  {
   "cell_type": "code",
   "execution_count": 292,
   "metadata": {
    "ExecuteTime": {
     "end_time": "2021-01-29T21:48:24.425597Z",
     "start_time": "2021-01-29T21:48:24.423412Z"
    }
   },
   "outputs": [],
   "source": [
    "# Your code here"
   ]
  },
  {
   "cell_type": "markdown",
   "metadata": {
    "ExecuteTime": {
     "end_time": "2021-01-29T21:26:05.838936Z",
     "start_time": "2021-01-29T21:26:05.826502Z"
    }
   },
   "source": [
    "### Task 11\n",
    "\n",
    "Identify the 10 ***individual*** genres that appears most and that appear least across all combinations in the dataset."
   ]
  },
  {
   "cell_type": "code",
   "execution_count": 294,
   "metadata": {
    "ExecuteTime": {
     "end_time": "2021-01-29T21:48:29.793587Z",
     "start_time": "2021-01-29T21:48:29.791296Z"
    }
   },
   "outputs": [],
   "source": [
    "# Your code here"
   ]
  }
 ],
 "metadata": {
  "kernelspec": {
   "display_name": "Python 3",
   "language": "python",
   "name": "python3"
  },
  "language_info": {
   "codemirror_mode": {
    "name": "ipython",
    "version": 3
   },
   "file_extension": ".py",
   "mimetype": "text/x-python",
   "name": "python",
   "nbconvert_exporter": "python",
   "pygments_lexer": "ipython3",
   "version": "3.7.4"
  },
  "toc": {
   "base_numbering": 1,
   "nav_menu": {},
   "number_sections": false,
   "sideBar": true,
   "skip_h1_title": false,
   "title_cell": "Table of Contents",
   "title_sidebar": "Contents",
   "toc_cell": false,
   "toc_position": {},
   "toc_section_display": true,
   "toc_window_display": false
  }
 },
 "nbformat": 4,
 "nbformat_minor": 2
}
