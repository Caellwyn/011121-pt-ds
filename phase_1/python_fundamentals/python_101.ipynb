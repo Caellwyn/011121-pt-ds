{
 "cells": [
  {
   "cell_type": "markdown",
   "metadata": {},
   "source": [
    "# Python Fundamentals"
   ]
  },
  {
   "cell_type": "markdown",
   "metadata": {},
   "source": [
    "## Objectives"
   ]
  },
  {
   "cell_type": "markdown",
   "metadata": {},
   "source": [
    "After this lesson, students will be able to:\n",
    "\n",
    "- distinguish and use objects of different datatypes;\n",
    "- use 'if' and 'else' statements;\n",
    "- slice into strings, lists, and tuples;\n",
    "- construct a for-loop."
   ]
  },
  {
   "cell_type": "markdown",
   "metadata": {},
   "source": [
    "Python can perform arithmetic calculations:"
   ]
  },
  {
   "cell_type": "code",
   "execution_count": null,
   "metadata": {
    "ExecuteTime": {
     "end_time": "2021-01-13T20:54:15.370129Z",
     "start_time": "2021-01-13T20:54:15.362727Z"
    }
   },
   "outputs": [],
   "source": [
    "2 + 2 * 10"
   ]
  },
  {
   "cell_type": "code",
   "execution_count": null,
   "metadata": {
    "ExecuteTime": {
     "end_time": "2021-01-13T20:54:15.374258Z",
     "start_time": "2021-01-13T20:54:15.371447Z"
    }
   },
   "outputs": [],
   "source": [
    "523678 * 1097253"
   ]
  },
  {
   "cell_type": "code",
   "execution_count": null,
   "metadata": {
    "ExecuteTime": {
     "end_time": "2021-01-13T20:54:15.378249Z",
     "start_time": "2021-01-13T20:54:15.375549Z"
    }
   },
   "outputs": [],
   "source": [
    "375 % 5"
   ]
  },
  {
   "cell_type": "markdown",
   "metadata": {},
   "source": [
    "But it can do so much more than this!"
   ]
  },
  {
   "cell_type": "markdown",
   "metadata": {},
   "source": [
    "## Data Types\n",
    "\n",
    "Objects in Python come in different types.\n",
    "\n",
    "The types to be aware of are strings (```str```), integers (```int```), floats (```float```), Booleans (```bool```), lists (```list```), and dictionaries (```dict```).\n",
    "\n",
    "### Strings\n",
    "\n",
    "Strings are pieces of text. In order for the computer to understand a string as such, it must be placed in single or double quotes:"
   ]
  },
  {
   "cell_type": "code",
   "execution_count": null,
   "metadata": {
    "ExecuteTime": {
     "end_time": "2021-01-13T20:57:47.765727Z",
     "start_time": "2021-01-13T20:57:47.756929Z"
    }
   },
   "outputs": [],
   "source": [
    "'This is a string'"
   ]
  },
  {
   "cell_type": "code",
   "execution_count": null,
   "metadata": {
    "ExecuteTime": {
     "end_time": "2021-01-13T20:57:51.631637Z",
     "start_time": "2021-01-13T20:57:51.628397Z"
    }
   },
   "outputs": [],
   "source": [
    "This is not a string"
   ]
  },
  {
   "cell_type": "code",
   "execution_count": null,
   "metadata": {
    "ExecuteTime": {
     "end_time": "2021-01-13T21:00:08.007458Z",
     "start_time": "2021-01-13T21:00:08.003722Z"
    }
   },
   "outputs": [],
   "source": [
    "fav_string = 'Here\\'s my favorite string'\n",
    "fav_string"
   ]
  },
  {
   "cell_type": "markdown",
   "metadata": {},
   "source": [
    "Triple quotes are useful for creating code blocks (that can themselves contain single or double quotes)."
   ]
  },
  {
   "cell_type": "code",
   "execution_count": null,
   "metadata": {
    "ExecuteTime": {
     "end_time": "2021-01-13T20:59:39.322847Z",
     "start_time": "2021-01-13T20:59:39.319730Z"
    }
   },
   "outputs": [],
   "source": [
    "print(\"\"\"\n",
    "Hey y'all. Where's the \"party\"?\n",
    "Multiple lines\n",
    "\n",
    "\"\"\")"
   ]
  },
  {
   "cell_type": "markdown",
   "metadata": {},
   "source": [
    "Often we want to use and store values in variables.\n",
    "To declare a variable, simply write the name of the variable, followed by an '=', followed by the value you want to store in the variable. Note in particular that, unlike many scripting languages, we do NOT have to specify the data type of the variable when declaring it."
   ]
  },
  {
   "cell_type": "code",
   "execution_count": null,
   "metadata": {
    "ExecuteTime": {
     "end_time": "2021-01-13T21:01:37.984845Z",
     "start_time": "2021-01-13T21:01:37.981285Z"
    }
   },
   "outputs": [],
   "source": [
    "favorite_string = 'python'\n",
    "\n",
    "favorite_string"
   ]
  },
  {
   "cell_type": "code",
   "execution_count": null,
   "metadata": {
    "ExecuteTime": {
     "end_time": "2021-01-13T21:01:32.106993Z",
     "start_time": "2021-01-13T21:01:32.103665Z"
    }
   },
   "outputs": [],
   "source": [
    "type(favorite_string)"
   ]
  },
  {
   "cell_type": "markdown",
   "metadata": {},
   "source": [
    "If you make a mistake ..."
   ]
  },
  {
   "cell_type": "code",
   "execution_count": null,
   "metadata": {
    "ExecuteTime": {
     "end_time": "2021-01-13T21:01:51.495721Z",
     "start_time": "2021-01-13T21:01:51.493363Z"
    }
   },
   "outputs": [],
   "source": [
    "name = 'joet'"
   ]
  },
  {
   "cell_type": "markdown",
   "metadata": {},
   "source": [
    "just re-assign it:"
   ]
  },
  {
   "cell_type": "code",
   "execution_count": null,
   "metadata": {
    "ExecuteTime": {
     "end_time": "2021-01-13T21:01:57.260693Z",
     "start_time": "2021-01-13T21:01:57.258244Z"
    }
   },
   "outputs": [],
   "source": [
    "name = 'joel'"
   ]
  },
  {
   "cell_type": "markdown",
   "metadata": {},
   "source": [
    "Strings can be sliced, if you want to make use of only part of a given string:"
   ]
  },
  {
   "cell_type": "code",
   "execution_count": null,
   "metadata": {
    "ExecuteTime": {
     "end_time": "2021-01-13T21:03:00.524146Z",
     "start_time": "2021-01-13T21:03:00.520804Z"
    }
   },
   "outputs": [],
   "source": [
    "name[2]"
   ]
  },
  {
   "cell_type": "code",
   "execution_count": null,
   "metadata": {
    "ExecuteTime": {
     "end_time": "2021-01-13T21:03:22.898003Z",
     "start_time": "2021-01-13T21:03:22.894560Z"
    }
   },
   "outputs": [],
   "source": [
    "name[2:3]"
   ]
  },
  {
   "cell_type": "code",
   "execution_count": null,
   "metadata": {
    "ExecuteTime": {
     "end_time": "2021-01-13T21:07:35.229994Z",
     "start_time": "2021-01-13T21:07:35.226469Z"
    }
   },
   "outputs": [],
   "source": [
    "name[::-2]"
   ]
  },
  {
   "cell_type": "code",
   "execution_count": null,
   "metadata": {
    "ExecuteTime": {
     "end_time": "2021-01-13T21:07:42.856213Z",
     "start_time": "2021-01-13T21:07:42.852003Z"
    }
   },
   "outputs": [],
   "source": [
    "name[::-3]"
   ]
  },
  {
   "cell_type": "code",
   "execution_count": null,
   "metadata": {
    "ExecuteTime": {
     "end_time": "2021-01-13T21:07:49.174454Z",
     "start_time": "2021-01-13T21:07:49.170648Z"
    }
   },
   "outputs": [],
   "source": [
    "name[::-100]"
   ]
  },
  {
   "cell_type": "markdown",
   "metadata": {},
   "source": [
    "Python strings are immutable, which means that you can't reassign any part of one:"
   ]
  },
  {
   "cell_type": "code",
   "execution_count": null,
   "metadata": {
    "ExecuteTime": {
     "end_time": "2021-01-13T21:08:09.185398Z",
     "start_time": "2021-01-13T21:08:09.116828Z"
    }
   },
   "outputs": [],
   "source": [
    "name[3] = 'f'"
   ]
  },
  {
   "cell_type": "code",
   "execution_count": null,
   "metadata": {
    "ExecuteTime": {
     "end_time": "2021-01-13T21:10:03.049394Z",
     "start_time": "2021-01-13T21:10:03.045617Z"
    }
   },
   "outputs": [],
   "source": [
    "name.replace('l', 'lio')"
   ]
  },
  {
   "cell_type": "markdown",
   "metadata": {},
   "source": [
    "For more on what you can do with strings, just type ```help(str)```!"
   ]
  },
  {
   "cell_type": "code",
   "execution_count": null,
   "metadata": {
    "ExecuteTime": {
     "end_time": "2021-01-13T21:09:07.070146Z",
     "start_time": "2021-01-13T21:09:07.050662Z"
    }
   },
   "outputs": [],
   "source": [
    "help(str)"
   ]
  },
  {
   "cell_type": "markdown",
   "metadata": {},
   "source": [
    "### Integers and Floats\n",
    "\n",
    "Integers and floats are numeric types in Python. Floats have decimal points and integers do not."
   ]
  },
  {
   "cell_type": "code",
   "execution_count": null,
   "metadata": {
    "ExecuteTime": {
     "end_time": "2021-01-13T21:11:06.545532Z",
     "start_time": "2021-01-13T21:11:06.541834Z"
    }
   },
   "outputs": [],
   "source": [
    "type(0)"
   ]
  },
  {
   "cell_type": "code",
   "execution_count": null,
   "metadata": {
    "ExecuteTime": {
     "end_time": "2021-01-13T21:11:10.033340Z",
     "start_time": "2021-01-13T21:11:10.030071Z"
    }
   },
   "outputs": [],
   "source": [
    "type(0.)"
   ]
  },
  {
   "cell_type": "code",
   "execution_count": null,
   "metadata": {
    "ExecuteTime": {
     "end_time": "2021-01-13T21:11:12.735613Z",
     "start_time": "2021-01-13T21:11:12.731726Z"
    }
   },
   "outputs": [],
   "source": [
    "type(0.789)"
   ]
  },
  {
   "cell_type": "markdown",
   "metadata": {},
   "source": [
    "Python DOES allow arithmetic across these two types:"
   ]
  },
  {
   "cell_type": "code",
   "execution_count": null,
   "metadata": {
    "ExecuteTime": {
     "end_time": "2021-01-13T21:11:25.676469Z",
     "start_time": "2021-01-13T21:11:25.672927Z"
    }
   },
   "outputs": [],
   "source": [
    "10 + 15.35"
   ]
  },
  {
   "cell_type": "code",
   "execution_count": null,
   "metadata": {
    "ExecuteTime": {
     "end_time": "2021-01-13T21:11:28.982356Z",
     "start_time": "2021-01-13T21:11:28.978907Z"
    }
   },
   "outputs": [],
   "source": [
    "10 % 6 / 6"
   ]
  },
  {
   "cell_type": "markdown",
   "metadata": {},
   "source": [
    "Python ```int```s are _coerced_ into ```float```s for these calculations.\n",
    "\n",
    "The keyword 'range' can be used to specify an interval of integers."
   ]
  },
  {
   "cell_type": "code",
   "execution_count": null,
   "metadata": {
    "ExecuteTime": {
     "end_time": "2021-01-13T21:12:35.026847Z",
     "start_time": "2021-01-13T21:12:35.023331Z"
    }
   },
   "outputs": [],
   "source": [
    "bob = range(8)\n",
    "\n",
    "bob"
   ]
  },
  {
   "cell_type": "code",
   "execution_count": null,
   "metadata": {
    "ExecuteTime": {
     "end_time": "2021-01-13T21:12:41.956081Z",
     "start_time": "2021-01-13T21:12:41.952527Z"
    }
   },
   "outputs": [],
   "source": [
    "list(bob)"
   ]
  },
  {
   "cell_type": "code",
   "execution_count": null,
   "metadata": {
    "ExecuteTime": {
     "end_time": "2021-01-13T21:12:48.178690Z",
     "start_time": "2021-01-13T21:12:48.175090Z"
    }
   },
   "outputs": [],
   "source": [
    "len(bob)"
   ]
  },
  {
   "cell_type": "code",
   "execution_count": null,
   "metadata": {
    "ExecuteTime": {
     "end_time": "2021-01-13T21:13:03.907707Z",
     "start_time": "2021-01-13T21:13:03.904045Z"
    }
   },
   "outputs": [],
   "source": [
    "list(range(2, 10, 2))"
   ]
  },
  {
   "cell_type": "markdown",
   "metadata": {},
   "source": [
    "### Booleans\n",
    "\n",
    "There are only two values of a Boolean: True and False."
   ]
  },
  {
   "cell_type": "code",
   "execution_count": null,
   "metadata": {
    "ExecuteTime": {
     "end_time": "2021-01-13T21:13:23.775420Z",
     "start_time": "2021-01-13T21:13:23.771957Z"
    }
   },
   "outputs": [],
   "source": [
    "type(False)"
   ]
  },
  {
   "cell_type": "code",
   "execution_count": null,
   "metadata": {
    "ExecuteTime": {
     "end_time": "2021-01-13T21:13:38.032719Z",
     "start_time": "2021-01-13T21:13:38.029219Z"
    }
   },
   "outputs": [],
   "source": [
    "type('False')"
   ]
  },
  {
   "cell_type": "code",
   "execution_count": null,
   "metadata": {
    "ExecuteTime": {
     "end_time": "2021-01-13T21:13:57.928537Z",
     "start_time": "2021-01-13T21:13:57.925123Z"
    }
   },
   "outputs": [],
   "source": [
    "type(True)"
   ]
  },
  {
   "cell_type": "markdown",
   "metadata": {},
   "source": [
    "Booleans are useful when you want to check to see whether some condition has been satisfied."
   ]
  },
  {
   "cell_type": "markdown",
   "metadata": {},
   "source": [
    "### Lists\n",
    "\n",
    "A list is an ordered collection of objects. Use square brackets for lists."
   ]
  },
  {
   "cell_type": "code",
   "execution_count": null,
   "metadata": {
    "ExecuteTime": {
     "end_time": "2021-01-13T21:17:04.257412Z",
     "start_time": "2021-01-13T21:17:04.254908Z"
    }
   },
   "outputs": [],
   "source": [
    "random_list = [1, 'alan', 8.5, True]"
   ]
  },
  {
   "cell_type": "markdown",
   "metadata": {},
   "source": [
    "Lists can be sliced, just like strings:"
   ]
  },
  {
   "cell_type": "code",
   "execution_count": null,
   "metadata": {
    "ExecuteTime": {
     "end_time": "2021-01-13T21:15:07.899952Z",
     "start_time": "2021-01-13T21:15:07.895850Z"
    }
   },
   "outputs": [],
   "source": [
    "random_list[1:]"
   ]
  },
  {
   "cell_type": "code",
   "execution_count": null,
   "metadata": {
    "ExecuteTime": {
     "end_time": "2021-01-13T21:15:33.306797Z",
     "start_time": "2021-01-13T21:15:33.302802Z"
    }
   },
   "outputs": [],
   "source": [
    "random_list_2 = ['alan', 8.5, True, 1]\n",
    "\n",
    "random_list == random_list_2"
   ]
  },
  {
   "cell_type": "markdown",
   "metadata": {},
   "source": [
    "Lists are mutable:"
   ]
  },
  {
   "cell_type": "code",
   "execution_count": null,
   "metadata": {
    "ExecuteTime": {
     "end_time": "2021-01-13T21:17:07.341295Z",
     "start_time": "2021-01-13T21:17:07.337872Z"
    }
   },
   "outputs": [],
   "source": [
    "random_list[2] = '85'\n",
    "random_list"
   ]
  },
  {
   "cell_type": "code",
   "execution_count": null,
   "metadata": {
    "ExecuteTime": {
     "end_time": "2021-01-13T21:17:17.316276Z",
     "start_time": "2021-01-13T21:17:17.312767Z"
    }
   },
   "outputs": [],
   "source": [
    "random_list.append('85')\n",
    "random_list"
   ]
  },
  {
   "cell_type": "code",
   "execution_count": null,
   "metadata": {
    "ExecuteTime": {
     "end_time": "2021-01-13T21:18:06.453088Z",
     "start_time": "2021-01-13T21:18:06.450655Z"
    }
   },
   "outputs": [],
   "source": [
    "random_list + ['joel']"
   ]
  },
  {
   "cell_type": "code",
   "execution_count": null,
   "metadata": {
    "ExecuteTime": {
     "end_time": "2021-01-13T21:18:07.921745Z",
     "start_time": "2021-01-13T21:18:07.918185Z"
    }
   },
   "outputs": [],
   "source": [
    "random_list"
   ]
  },
  {
   "cell_type": "code",
   "execution_count": null,
   "metadata": {
    "ExecuteTime": {
     "end_time": "2021-01-13T21:18:24.960280Z",
     "start_time": "2021-01-13T21:18:24.956590Z"
    }
   },
   "outputs": [],
   "source": [
    "random_list.remove('alan')\n",
    "\n",
    "random_list"
   ]
  },
  {
   "cell_type": "markdown",
   "metadata": {},
   "source": [
    "### Dictionaries\n",
    "\n",
    "A dictionary is an unordered collection of _paired_ elements, just like an English dictionary is a pairing of words and definitions.\n",
    "\n",
    "The first elements of the pairs are called \"keys\"; the second elements are called \"values\".\n",
    "\n",
    "Use braces for dictionaries."
   ]
  },
  {
   "cell_type": "code",
   "execution_count": null,
   "metadata": {
    "ExecuteTime": {
     "end_time": "2021-01-13T21:19:02.226778Z",
     "start_time": "2021-01-13T21:19:02.222779Z"
    }
   },
   "outputs": [],
   "source": [
    "joel = {'name': 'joel', 'occupation': 'data_scientist',\n",
    "            'HP': 140, 'favorite_color': 'green', 'weakness': 'decaf_sensitivity'}\n",
    "\n",
    "type(joel)"
   ]
  },
  {
   "cell_type": "code",
   "execution_count": null,
   "metadata": {
    "ExecuteTime": {
     "end_time": "2021-01-13T21:20:06.428470Z",
     "start_time": "2021-01-13T21:20:06.425056Z"
    }
   },
   "outputs": [],
   "source": [
    "joel.keys()"
   ]
  },
  {
   "cell_type": "code",
   "execution_count": null,
   "metadata": {
    "ExecuteTime": {
     "end_time": "2021-01-13T21:20:20.344101Z",
     "start_time": "2021-01-13T21:20:20.340337Z"
    }
   },
   "outputs": [],
   "source": [
    "joel.values()"
   ]
  },
  {
   "cell_type": "code",
   "execution_count": null,
   "metadata": {
    "ExecuteTime": {
     "end_time": "2021-01-13T21:20:41.207482Z",
     "start_time": "2021-01-13T21:20:41.204102Z"
    }
   },
   "outputs": [],
   "source": [
    "joel.items()"
   ]
  },
  {
   "cell_type": "markdown",
   "metadata": {},
   "source": [
    "To access a \"definition\", just look up the word!"
   ]
  },
  {
   "cell_type": "code",
   "execution_count": null,
   "metadata": {
    "ExecuteTime": {
     "end_time": "2021-01-13T21:21:57.266424Z",
     "start_time": "2021-01-13T21:21:57.262875Z"
    }
   },
   "outputs": [],
   "source": [
    "joel['occupation'] = 'wizard'\n",
    "\n",
    "joel['occupation']"
   ]
  },
  {
   "cell_type": "markdown",
   "metadata": {},
   "source": [
    "### Tuples and Sets\n",
    "\n",
    "Tuples are array-like objects that support indexing in the same way that lists do."
   ]
  },
  {
   "cell_type": "code",
   "execution_count": null,
   "metadata": {
    "ExecuteTime": {
     "end_time": "2021-01-13T21:22:28.899022Z",
     "start_time": "2021-01-13T21:22:28.895546Z"
    }
   },
   "outputs": [],
   "source": [
    "type((1, 2, 4))"
   ]
  },
  {
   "cell_type": "code",
   "execution_count": null,
   "metadata": {
    "ExecuteTime": {
     "end_time": "2021-01-13T21:22:48.557810Z",
     "start_time": "2021-01-13T21:22:48.554387Z"
    }
   },
   "outputs": [],
   "source": [
    "(1, 2, 3)"
   ]
  },
  {
   "cell_type": "markdown",
   "metadata": {},
   "source": [
    "But unlike lists, tuples are *immutable*."
   ]
  },
  {
   "cell_type": "code",
   "execution_count": null,
   "metadata": {
    "ExecuteTime": {
     "end_time": "2021-01-13T21:23:11.589533Z",
     "start_time": "2021-01-13T21:23:11.583098Z"
    }
   },
   "outputs": [],
   "source": [
    "triple = (1, 2, 3)\n",
    "\n",
    "triple[0] = 3"
   ]
  },
  {
   "cell_type": "markdown",
   "metadata": {},
   "source": [
    "Sets are *unordered*, and so they do not support indexing. But they are mutable."
   ]
  },
  {
   "cell_type": "code",
   "execution_count": null,
   "metadata": {
    "ExecuteTime": {
     "end_time": "2021-01-13T21:23:34.070295Z",
     "start_time": "2021-01-13T21:23:34.066130Z"
    }
   },
   "outputs": [],
   "source": [
    "set1 = {1, 2, 3}\n",
    "\n",
    "set1.add(4)\n",
    "\n",
    "set1"
   ]
  },
  {
   "cell_type": "markdown",
   "metadata": {},
   "source": [
    "### Casting\n",
    "\n",
    "Sometimes we want to turn an object of one data type into another, and we have to tell Python to do it:"
   ]
  },
  {
   "cell_type": "code",
   "execution_count": null,
   "metadata": {
    "ExecuteTime": {
     "end_time": "2021-01-13T21:24:46.847848Z",
     "start_time": "2021-01-13T21:24:46.844228Z"
    }
   },
   "outputs": [],
   "source": [
    "str(8)"
   ]
  },
  {
   "cell_type": "code",
   "execution_count": null,
   "metadata": {
    "ExecuteTime": {
     "end_time": "2021-01-13T21:24:52.013985Z",
     "start_time": "2021-01-13T21:24:52.010576Z"
    }
   },
   "outputs": [],
   "source": [
    "int(8.9)"
   ]
  },
  {
   "cell_type": "code",
   "execution_count": null,
   "metadata": {
    "ExecuteTime": {
     "end_time": "2021-01-13T21:24:57.944706Z",
     "start_time": "2021-01-13T21:24:57.940875Z"
    }
   },
   "outputs": [],
   "source": [
    "bool(0)"
   ]
  },
  {
   "cell_type": "code",
   "execution_count": null,
   "metadata": {
    "ExecuteTime": {
     "end_time": "2021-01-13T21:25:11.296889Z",
     "start_time": "2021-01-13T21:25:11.293237Z"
    }
   },
   "outputs": [],
   "source": [
    "bool(2)"
   ]
  },
  {
   "cell_type": "code",
   "execution_count": null,
   "metadata": {
    "ExecuteTime": {
     "end_time": "2021-01-13T21:25:16.413129Z",
     "start_time": "2021-01-13T21:25:16.409573Z"
    }
   },
   "outputs": [],
   "source": [
    "2 == True"
   ]
  },
  {
   "cell_type": "markdown",
   "metadata": {},
   "source": [
    "In Python, 1 and **True** are the same object, and 0 and **False** are the same object, even though they officially have different data types."
   ]
  },
  {
   "cell_type": "code",
   "execution_count": null,
   "metadata": {
    "ExecuteTime": {
     "end_time": "2021-01-13T21:25:35.707445Z",
     "start_time": "2021-01-13T21:25:35.703724Z"
    }
   },
   "outputs": [],
   "source": [
    "1 == True"
   ]
  },
  {
   "cell_type": "code",
   "execution_count": null,
   "metadata": {
    "ExecuteTime": {
     "end_time": "2021-01-13T21:25:39.397505Z",
     "start_time": "2021-01-13T21:25:39.393954Z"
    }
   },
   "outputs": [],
   "source": [
    "0 == False"
   ]
  },
  {
   "cell_type": "code",
   "execution_count": null,
   "metadata": {
    "ExecuteTime": {
     "end_time": "2021-01-13T21:25:47.334680Z",
     "start_time": "2021-01-13T21:25:47.331268Z"
    }
   },
   "outputs": [],
   "source": [
    "type(0)"
   ]
  },
  {
   "cell_type": "code",
   "execution_count": null,
   "metadata": {
    "ExecuteTime": {
     "end_time": "2021-01-13T21:25:48.774835Z",
     "start_time": "2021-01-13T21:25:48.771477Z"
    }
   },
   "outputs": [],
   "source": [
    "type(False)"
   ]
  },
  {
   "cell_type": "markdown",
   "metadata": {},
   "source": [
    "## 'If' - Statements\n",
    "\n",
    "'if'-statements are very powerful tools in Python. Simply put, they check to see if some condition is true or not.\n",
    "\n",
    "Useful comparison operators:\n",
    "\n",
    "'>', '<', '>=', '<=', '==', '!='"
   ]
  },
  {
   "cell_type": "code",
   "execution_count": null,
   "metadata": {
    "ExecuteTime": {
     "end_time": "2021-01-13T21:27:21.166146Z",
     "start_time": "2021-01-13T21:27:21.162760Z"
    }
   },
   "outputs": [],
   "source": [
    "num = 76\n",
    "if num % 4 == 0:\n",
    "    print('yes')"
   ]
  },
  {
   "cell_type": "markdown",
   "metadata": {},
   "source": [
    "### 'Else' - and 'Elif' - Statements\n",
    "\n",
    "The keyword 'else' is used to cover the other cases where the 'if'-statement is false.\n",
    "\n",
    "Sometimes we want to consider more than just two possibilities, and we can use 'elif' (\"else-if\") for this."
   ]
  },
  {
   "cell_type": "code",
   "execution_count": null,
   "metadata": {
    "ExecuteTime": {
     "end_time": "2021-01-13T21:28:04.574498Z",
     "start_time": "2021-01-13T21:28:04.571295Z"
    }
   },
   "outputs": [],
   "source": [
    "num = 74\n",
    "if num % 4 == 0:\n",
    "    print('yes')\n",
    "else:\n",
    "    print('no')"
   ]
  },
  {
   "cell_type": "code",
   "execution_count": null,
   "metadata": {
    "ExecuteTime": {
     "end_time": "2021-01-13T21:29:41.076918Z",
     "start_time": "2021-01-13T21:29:41.073338Z"
    }
   },
   "outputs": [],
   "source": [
    "num = 10\n",
    "if num % 3 == 0:\n",
    "    print('multiple of 3')\n",
    "elif num % 3 == 1:\n",
    "    print('one more than a multiple of 3')\n",
    "else:\n",
    "    print('two more than a multiple of 3')"
   ]
  },
  {
   "cell_type": "markdown",
   "metadata": {},
   "source": [
    "## 'For' - Loops\n",
    "\n",
    "A 'for'-loop is way of performing a set of related tasks automatically. Suppose, for example, that I want to print out every number between 1 and 7, inclusive."
   ]
  },
  {
   "cell_type": "code",
   "execution_count": null,
   "metadata": {
    "ExecuteTime": {
     "end_time": "2021-01-13T21:31:06.961624Z",
     "start_time": "2021-01-13T21:31:06.958230Z"
    }
   },
   "outputs": [],
   "source": [
    "for val in range(1, 8):\n",
    "    print(val)"
   ]
  },
  {
   "cell_type": "markdown",
   "metadata": {},
   "source": [
    "The combination of 'for'-loops with 'if'-statements is especially powerful."
   ]
  },
  {
   "cell_type": "code",
   "execution_count": null,
   "metadata": {
    "ExecuteTime": {
     "end_time": "2021-01-13T21:31:30.318419Z",
     "start_time": "2021-01-13T21:31:30.314375Z"
    }
   },
   "outputs": [],
   "source": [
    "for val in range(1, 8):\n",
    "    if val >= 4:\n",
    "        print(val)"
   ]
  },
  {
   "cell_type": "code",
   "execution_count": null,
   "metadata": {
    "ExecuteTime": {
     "end_time": "2021-01-13T21:32:12.395103Z",
     "start_time": "2021-01-13T21:32:12.390887Z"
    }
   },
   "outputs": [],
   "source": [
    "for elem in joel:\n",
    "    if type(joel[elem]) == str:\n",
    "        print(elem + ': ' + joel[elem])"
   ]
  },
  {
   "cell_type": "markdown",
   "metadata": {},
   "source": [
    "## Exercises:"
   ]
  },
  {
   "cell_type": "markdown",
   "metadata": {},
   "source": [
    "1. Build a list of the integers from 1 to 20. And then, for each number in your list, print it out if it's even; otherwise print out its double.\n",
    "\n",
    "Note that we could just use an iterator object without building the whole list!"
   ]
  },
  {
   "cell_type": "code",
   "execution_count": null,
   "metadata": {},
   "outputs": [],
   "source": []
  },
  {
   "cell_type": "markdown",
   "metadata": {},
   "source": [
    "2. Here is a dictionary of the classmembers' names:"
   ]
  },
  {
   "cell_type": "code",
   "execution_count": null,
   "metadata": {
    "ExecuteTime": {
     "end_time": "2021-01-13T20:55:13.466199Z",
     "start_time": "2021-01-13T20:55:13.462783Z"
    }
   },
   "outputs": [],
   "source": [
    "cohort = {'arjun': 6, 'benjamin': 5, 'drake': 3, 'jinsol': 7, 'kennedi': 7,\n",
    "         'kevin': 5, 'Le': 6, 'marti': 5, 'melvin': 3, 'nancy': 2,\n",
    "         'robert': 9, 'gene': 4}"
   ]
  },
  {
   "cell_type": "markdown",
   "metadata": {},
   "source": [
    "Print out each key whose value is not equal to the length of the key."
   ]
  },
  {
   "cell_type": "code",
   "execution_count": null,
   "metadata": {},
   "outputs": [],
   "source": []
  },
  {
   "cell_type": "markdown",
   "metadata": {},
   "source": [
    "3. Either I'm going to lunch or to the park. If I go to lunch I'll definitely take my wallet, but if I go to the park then I'll only take my wallet if I want to stop by the store. <br/> Use conditionals to construct a piece of code that will return the appropriate (Boolean) value of `take_wallet` under the right conditions. Test your code!"
   ]
  },
  {
   "cell_type": "code",
   "execution_count": null,
   "metadata": {
    "ExecuteTime": {
     "end_time": "2021-01-13T21:36:22.623385Z",
     "start_time": "2021-01-13T21:36:22.618642Z"
    }
   },
   "outputs": [],
   "source": [
    "# Sample conditions\n",
    "\n",
    "lunch = True\n",
    "park = False\n",
    "store = True\n",
    "\n",
    "if :\n",
    "    take_wallet = True\n",
    "\n",
    "else:\n",
    "    take_wallet = False\n",
    "\n",
    "# Test your code!\n",
    "\n",
    "take_wallet"
   ]
  },
  {
   "cell_type": "code",
   "execution_count": null,
   "metadata": {},
   "outputs": [],
   "source": []
  },
  {
   "cell_type": "code",
   "execution_count": null,
   "metadata": {},
   "outputs": [],
   "source": []
  }
 ],
 "metadata": {
  "kernelspec": {
   "display_name": "Python 3",
   "language": "python",
   "name": "python3"
  },
  "language_info": {
   "codemirror_mode": {
    "name": "ipython",
    "version": 3
   },
   "file_extension": ".py",
   "mimetype": "text/x-python",
   "name": "python",
   "nbconvert_exporter": "python",
   "pygments_lexer": "ipython3",
   "version": "3.7.4"
  },
  "toc": {
   "base_numbering": 1,
   "nav_menu": {},
   "number_sections": true,
   "sideBar": true,
   "skip_h1_title": false,
   "title_cell": "Table of Contents",
   "title_sidebar": "Contents",
   "toc_cell": false,
   "toc_position": {},
   "toc_section_display": true,
   "toc_window_display": false
  }
 },
 "nbformat": 4,
 "nbformat_minor": 4
}
