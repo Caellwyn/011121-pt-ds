{
 "cells": [
  {
   "cell_type": "code",
   "execution_count": null,
   "metadata": {},
   "outputs": [],
   "source": [
    "# Setting grandparent directory\n",
    "# as an import path.\n",
    "import os\n",
    "import sys\n",
    "grandparent_directory = os.path.join(os.pardir, os.pardir)\n",
    "sys.path.append(grandparent_directory)"
   ]
  },
  {
   "cell_type": "markdown",
   "metadata": {},
   "source": [
    "# Application Programming Interface (API)"
   ]
  },
  {
   "cell_type": "markdown",
   "metadata": {},
   "source": [
    "APIs are used to transport data across the internet. In the world of web development, APIs are commonly used as a backend for websites, returning data to a javascript program which then renders the data with html.\n",
    "\n",
    "In the world of public data and analytics, APIs serve as a powerful tool for data collection and data transparency. \n",
    "\n",
    "[Goverment agencies](https://github.com/public-apis/public-apis#government) commonly have APIs that provide open access to their mountains of public data.\n",
    "\n",
    "Social Media companies like [Twitter](https://developer.twitter.com/en/docs) and [Reddit](https://www.reddit.com/dev/api/) provide APIs that are frequently used by researchers and marketing firms who are studying public internet behavior.\n",
    "\n",
    "[Google Maps](https://developers.google.com/maps/documentation/?_ga=2.115432070.1817774719.1607955846-1869916520.1607955812&_gac=1.158970888.1607956052.COHo1IfXze0CFdmUxQIdVrAPYQ) provides an api for creating interactive maps and manipulating geodata. \n",
    "\n",
    "[NBA Stats](https://any-api.com/nba_com/nba_com/docs/_playercareerstats) provides open access to league, player, and team data.\n",
    "\n",
    "The list goes on and on. There is a world of data that is ripe for exploring, and I highly recommend that you search for APIs with data that may pique your interest. You can use website like [Any-API.com](https://any-api.com/) or [public-apis.io](https://public-apis.io/) which host a running list of public APIs. \n",
    ">**Tip:** Keep an eye out for \"Data\" links when navigating websites. Some companies have open APIs but do not promote them. Those links are now apart of your work as data scientists. Paying attention to what data can be sourced and from where is a quick way to dramatically increase the power of your analytics. "
   ]
  },
  {
   "cell_type": "markdown",
   "metadata": {},
   "source": [
    "### How do we use APIs?\n",
    "APIs use https requests. We use these all the time! We oftentimes refer to them as URLs.\n",
    "\n",
    "**Let's look at an example:**\n",
    "\n",
    "If we follow the url [https://www.date.nager.at](https://date.nager.at)\n",
    "\n",
    "We are taken to the homepage for a worldwide holidays website. Normally if we wanted to use this product, we would input information to the webpage manually and sift through the results. But what if we need to run thousands of searches?\n",
    "\n",
    "Below we import 5 years of S&P Stock Data."
   ]
  },
  {
   "cell_type": "code",
   "execution_count": null,
   "metadata": {},
   "outputs": [],
   "source": [
    "import pandas as pd\n",
    "data_path = os.path.join(os.pardir, os.pardir, 'data')\n",
    "datafile_path = os.path.join(data_path, 'all_stocks_5yr.csv')\n",
    "df = pd.read_csv(datafile_path)\n",
    "print(f'The dataframe has {df.shape[0]} observations')"
   ]
  },
  {
   "cell_type": "markdown",
   "metadata": {},
   "source": [
    "This dataset contains the date, name of company, volume, open, high, low, and closing prices for S&P 500 stocks from 2013-2018."
   ]
  },
  {
   "cell_type": "code",
   "execution_count": null,
   "metadata": {},
   "outputs": [],
   "source": [
    "df.head(3)"
   ]
  },
  {
   "cell_type": "markdown",
   "metadata": {},
   "source": [
    "What if we wanted to create a column called `is_holiday` that marks a 1 if the day is a public holiday and a 0 if the date is not a public holiday?\n",
    "\n",
    "We would have to do ***a lot*** of clicking. \n",
    "![](https://media.giphy.com/media/3ohjVa8iomT5u3NMU8/giphy.gif)\n"
   ]
  },
  {
   "cell_type": "markdown",
   "metadata": {},
   "source": [
    "## Fortunately, there is a way that we can automate this process."
   ]
  },
  {
   "cell_type": "markdown",
   "metadata": {},
   "source": [
    "### New Packages\n",
    "\n",
    "For this lesson we will be using two new libraries. \n",
    "\n",
    "1. [requests](https://requests.readthedocs.io/en/master/)\n",
    "2. [json](https://docs.python.org/3/library/json.html)"
   ]
  },
  {
   "cell_type": "code",
   "execution_count": null,
   "metadata": {},
   "outputs": [],
   "source": [
    "# Lesson packages\n",
    "from requests import get\n",
    "import json"
   ]
  },
  {
   "cell_type": "markdown",
   "metadata": {},
   "source": [
    "Below is an example of an API request!"
   ]
  },
  {
   "cell_type": "code",
   "execution_count": null,
   "metadata": {},
   "outputs": [],
   "source": [
    "url = 'https://date.nager.at/Api/v2/PublicHolidays/2013/us'\n",
    "get(url)"
   ]
  },
  {
   "cell_type": "markdown",
   "metadata": {},
   "source": [
    "✅ A Response 200 means our request was sucessful! ✅\n",
    "\n",
    "❌ Let's take a quick look at an unsuccessful response.❌"
   ]
  },
  {
   "cell_type": "code",
   "execution_count": null,
   "metadata": {},
   "outputs": [],
   "source": [
    "url = 'https://date.nager.at/Api/v2/PublicHolidays/2013/fake-country'\n",
    "get(url)"
   ]
  },
  {
   "cell_type": "markdown",
   "metadata": {},
   "source": [
    "**A Response 404 means that the url you are using in your request is not valid.**\n",
    "![](../../static/404-error.gif)"
   ]
  },
  {
   "cell_type": "markdown",
   "metadata": {},
   "source": [
    "**How do we access the data from a successful request?**\n",
    "\n",
    "When working with APIs, the standard object that is sent back is `json` which stands for <u>Javascript Object Notation</u>. Json is a lightweight data structure and is used frequently on the backend of websites. It is also a common filetype when saving complex data to disk. \n",
    "\n",
    "To access the json data from an API response, we can call the `.json()` method. "
   ]
  },
  {
   "cell_type": "code",
   "execution_count": null,
   "metadata": {},
   "outputs": [],
   "source": [
    "url = 'https://date.nager.at/Api/v2/PublicHolidays/2013/us'\n",
    "get(url).json()[:2]"
   ]
  },
  {
   "cell_type": "markdown",
   "metadata": {},
   "source": [
    "**How would we describe the structure of this data?**"
   ]
  },
  {
   "cell_type": "markdown",
   "metadata": {},
   "source": [
    "Your answer here"
   ]
  },
  {
   "cell_type": "markdown",
   "metadata": {},
   "source": [
    "### Let's break down the https request\n",
    "\n",
    "![annotated request](../../static/request_1.png)"
   ]
  },
  {
   "cell_type": "markdown",
   "metadata": {},
   "source": [
    "**An important note.**\n",
    "\n",
    "It is very common with APIs that we need to pass in some sort of unique `ID` or variable name. We usually will not know what this variable name is ahead of time, and we will first have to do some preliminary meta API querying to determine the ID so we can use the ID in our final API query. \n",
    "\n",
    "In the above example, the \"us\" portion of the request url can be considered a unique id. For this API, the unique ids are just the two letter abbreviations countries. But let's pretend for a moment that we do not know this. Let's pretend that we just discovered this API on the internet and would like to use it. \n",
    "\n",
    "We can see in the documentation an example request:\n",
    "\n",
    "![](../../static/request_2.png)\n",
    "\n",
    "When we see something like \"countrycode\" as part of the request, the next question we should ask is \"what is a country code\".\n",
    "\n",
    "If the API is designed well, there will be an endpoint for investigating this sort of meta-data. For this API, they provide an endpoint for checking the available countries:\n",
    "\n",
    "![](../../static/request_3.png)"
   ]
  },
  {
   "cell_type": "code",
   "execution_count": null,
   "metadata": {},
   "outputs": [],
   "source": [
    "url = 'https://date.nager.at/Api/v2/AvailableCountries'\n",
    "get(url).json()[:5]"
   ]
  },
  {
   "cell_type": "markdown",
   "metadata": {},
   "source": [
    "When figuring out how to use an API, sometimes there needs to be a little bit of logic puzzle solving. In this case, the result of the `Available Countries` endpoint was a list of dictionaries. Each dictionary contains 'key' and 'value' keys. It would probably be more clear if 'key' was changed to 'countrycode' to make clear that the data saved to this key is the countrycode, but whoever built this API decided that it was intuitive. \n",
    "\n",
    "Ultimately, we could pass in 'AD' as the country code, and receive all the public holidays for Andorra!"
   ]
  },
  {
   "cell_type": "code",
   "execution_count": null,
   "metadata": {},
   "outputs": [],
   "source": [
    "url = 'https://date.nager.at/Api/v2/PublicHolidays/2013/ad'\n",
    "get(url).json()[:2]"
   ]
  },
  {
   "cell_type": "markdown",
   "metadata": {},
   "source": [
    "### Quick dog photos intermission using the [dog.ceo api](https://dog.ceo/dog-api/)"
   ]
  },
  {
   "cell_type": "code",
   "execution_count": null,
   "metadata": {},
   "outputs": [],
   "source": [
    "from src.apis import random_dog"
   ]
  },
  {
   "cell_type": "code",
   "execution_count": null,
   "metadata": {},
   "outputs": [],
   "source": [
    "random_dog()"
   ]
  },
  {
   "cell_type": "markdown",
   "metadata": {},
   "source": [
    "### End of intermission and into breakout rooms.\n",
    "\n",
    "**Let's return to our problem of determining if a day in our dataset is a public holiday.**\n",
    "\n",
    "For this problem, we will only focus on public holidays in the United States.\n",
    "\n",
    "To collect public holiday data from the API, we need the year and countrycode. \n",
    "\n",
    "In the cell below, \n",
    "- Define a function called `get_year` that returns the year for each observation in the `date` column. "
   ]
  },
  {
   "cell_type": "code",
   "execution_count": null,
   "metadata": {
    "ExecuteTime": {
     "end_time": "2021-02-12T20:26:10.969811Z",
     "start_time": "2021-02-12T20:26:10.967066Z"
    }
   },
   "outputs": [],
   "source": [
    "def get_year(date):\n",
    "    return date[:4]"
   ]
  },
  {
   "cell_type": "markdown",
   "metadata": {},
   "source": [
    "**Cool**\n",
    "\n",
    "In the cell below\n",
    "- Define a function called `get_public_holidays` that receives a year and returns the public holidays for that year."
   ]
  },
  {
   "cell_type": "code",
   "execution_count": null,
   "metadata": {
    "ExecuteTime": {
     "end_time": "2021-02-12T20:26:12.936013Z",
     "start_time": "2021-02-12T20:26:12.933245Z"
    }
   },
   "outputs": [],
   "source": [
    "def get_public_holidays(year):\n",
    "    url = f'https://date.nager.at/Api/v2/PublicHolidays/{year}/us'\n",
    "    data = get(url).json()\n",
    "    return data"
   ]
  },
  {
   "cell_type": "markdown",
   "metadata": {
    "ExecuteTime": {
     "end_time": "2020-12-15T20:56:01.054346Z",
     "start_time": "2020-12-15T20:55:59.601517Z"
    }
   },
   "source": [
    "## A quick aside\n",
    "\n",
    "Let's talk about rate limits. For this API, no rate limit is mentioned, but it is common for APIs to limit the number of requests you can make in a given amount of time. \n",
    "\n",
    "Let's say for example that we are limited to 3 queries per 2 seconds. We would want to make sure we include in our code some logic to make sure that we never surpass that limit. Otherwise we risk having our IP address blocked by the API!"
   ]
  },
  {
   "cell_type": "code",
   "execution_count": null,
   "metadata": {},
   "outputs": [],
   "source": [
    "from time import sleep\n",
    "from datetime import datetime\n",
    "\n",
    "data = []\n",
    "count = 0\n",
    "print('Starting timer...')\n",
    "start = datetime.now()\n",
    "for year in range(2013, 2018):\n",
    "    print('Making Request...')\n",
    "    response = get_public_holidays(year)\n",
    "    count += 1\n",
    "    if count % 100 == 0:\n",
    "        end = datetime.now()\n",
    "        diff = (end-start)\n",
    "        if diff.total_seconds()/3600 <=.999999999:\n",
    "            print('Rate limit reached.')\n",
    "            print('Pausing for 1 hour...')\n",
    "            sleep(3600)\n",
    "            print('Re-starting timer...')\n",
    "            start = datetime.now()\n",
    "\n",
    "            \n",
    "    data.append(response)"
   ]
  },
  {
   "cell_type": "markdown",
   "metadata": {
    "ExecuteTime": {
     "end_time": "2020-12-15T21:03:35.278725Z",
     "start_time": "2020-12-15T21:03:35.265645Z"
    }
   },
   "source": [
    "For this api, it probably makes more sense to collect all of the relevant public holiday data once and then use Python to check if each row in the data is a public holiday by referencing the json data. \n",
    "\n",
    "In the cell below\n",
    "- collect the public holiday data for all years in our dataset. "
   ]
  },
  {
   "cell_type": "code",
   "execution_count": null,
   "metadata": {
    "ExecuteTime": {
     "end_time": "2020-12-15T22:47:28.059991Z",
     "start_time": "2020-12-15T22:47:24.359050Z"
    }
   },
   "outputs": [],
   "source": [
    "years = list(df.date.apply(get_year).unique())\n",
    "public_holidays = []\n",
    "\n",
    "for year in years:\n",
    "    public_holidays += get_public_holidays(year)"
   ]
  },
  {
   "cell_type": "markdown",
   "metadata": {
    "ExecuteTime": {
     "end_time": "2020-12-15T21:19:02.313549Z",
     "start_time": "2020-12-15T21:19:02.298056Z"
    }
   },
   "source": [
    "**Now, create a function called `is_holiday` that receives a date and checks the public holidays data to see if the data is present.**\n",
    "\n",
    "In the cell below:\n",
    "- Define the `is_holiday` function that returns a 1 if the date is a holiday and a 0 if the date is \n",
    "not a holiday. \n",
    "- Add an `'is_holiday'` column to our dataset."
   ]
  },
  {
   "cell_type": "code",
   "execution_count": null,
   "metadata": {
    "ExecuteTime": {
     "end_time": "2020-12-15T22:47:28.070888Z",
     "start_time": "2020-12-15T22:47:28.065967Z"
    }
   },
   "outputs": [],
   "source": [
    "def is_holiday(date):\n",
    "    for day in public_holidays:\n",
    "        if day['date'] == date:\n",
    "            return 1\n",
    "    return 0"
   ]
  },
  {
   "cell_type": "code",
   "execution_count": null,
   "metadata": {},
   "outputs": [],
   "source": [
    "df['is_holiday'] = df.date.apply(is_holiday)"
   ]
  },
  {
   "cell_type": "markdown",
   "metadata": {
    "ExecuteTime": {
     "end_time": "2020-12-15T21:28:17.259549Z",
     "start_time": "2020-12-15T21:28:17.230084Z"
    }
   },
   "source": [
    "Now let's use the data we just collected.\n",
    "\n",
    "In the cell below, \n",
    "\n",
    "- Create a visualization that plots both the closing price distribution of holiday and non-holiday days. "
   ]
  },
  {
   "cell_type": "code",
   "execution_count": null,
   "metadata": {
    "ExecuteTime": {
     "end_time": "2020-12-15T22:47:30.213034Z",
     "start_time": "2020-12-15T22:47:29.937197Z"
    }
   },
   "outputs": [],
   "source": [
    "import matplotlib.pyplot as plt\n",
    "holiday = df[df.is_holiday == 1]\n",
    "no_holiday = df[df.is_holiday == 0]\n",
    "\n",
    "plt.hist(holiday.close, density=True, alpha = .5, label='Holiday')\n",
    "plt.hist(no_holiday.close, density=True, alpha=.5, label='No Holiday')\n",
    "plt.legend()\n",
    "plt.show()"
   ]
  },
  {
   "cell_type": "markdown",
   "metadata": {
    "ExecuteTime": {
     "end_time": "2020-12-15T22:02:22.243197Z",
     "start_time": "2020-12-15T22:02:22.226423Z"
    }
   },
   "source": [
    "What can we say about this visualization?"
   ]
  },
  {
   "cell_type": "markdown",
   "metadata": {},
   "source": [
    "Your answer here"
   ]
  },
  {
   "cell_type": "markdown",
   "metadata": {},
   "source": [
    "## Saving our json data"
   ]
  },
  {
   "cell_type": "markdown",
   "metadata": {},
   "source": [
    "To save json data, we can use the `json` package!"
   ]
  },
  {
   "cell_type": "code",
   "execution_count": null,
   "metadata": {},
   "outputs": [],
   "source": [
    "file = open('holiday_data.json', 'w')\n",
    "json.dump(public_holidays, file)\n",
    "file.close()"
   ]
  },
  {
   "cell_type": "markdown",
   "metadata": {},
   "source": [
    "## A quick note about authentification\n",
    "\n",
    "Not all APIs verify users the same way. You'll notice that the API we used in this lesson doesn't require authentification. Let's look at standard example of how we pass a user token as a header using the [NOAA API](https://www.ncdc.noaa.gov/cdo-web/webservices/v2#gettingStarted)"
   ]
  },
  {
   "cell_type": "code",
   "execution_count": null,
   "metadata": {},
   "outputs": [],
   "source": [
    "token = None\n",
    "\n",
    "headers = {'token': token}\n",
    "url = 'https://www.ncdc.noaa.gov/cdo-web/api/v2/datasets'\n",
    "get(url, headers=headers)"
   ]
  },
  {
   "cell_type": "markdown",
   "metadata": {},
   "source": [
    "## A quick note about API queryies that can receive variable arguments\n",
    "\n",
    "If we look at the [Datasets Tab](https://www.ncdc.noaa.gov/cdo-web/webservices/v2#datasets) of the NOAA documentation, we can see a request in the examples at the bottom that looks like this...\n",
    "\n",
    "```https://www.ncdc.noaa.gov/cdo-web/api/v2/datasets?stationid=COOP:310090&stationid=COOP:310184&stationid=COOP:310212```\n",
    "\n",
    "The notation that is different in this request compared to previous requests is that it uses a `?` followed by a bunch of `variable_name=data` queries. This is a common request technique for complex APIs, especially for government APIs. Ultimately, this sort of notation makes APIs more flexible and allows you to quickly retreive the data that you need. "
   ]
  },
  {
   "cell_type": "markdown",
   "metadata": {},
   "source": [
    "## Some API tasks\n",
    "\n",
    "1. Use the [evilinsult api](https://evilinsult.com/api/#generate-insult-get) to collect a list of 5 evil insults.\n",
    "2. Dig into the documentation for the [cat-facts](https://alexwohlbruck.github.io/cat-facts/) API to return 10 random cat facts.\n",
    "3. Use the [official joke api](https://github.com/15Dkatz/official_joke_api) to collect 5 random jokes and post your favorite in slack. *Please do not post anything innappropriate.*\n",
    "4. Check out the [Tweepy](https://www.tweepy.org/) Python package. It is very cool. "
   ]
  }
 ],
 "metadata": {
  "kernelspec": {
   "display_name": "Python 3",
   "language": "python",
   "name": "python3"
  },
  "language_info": {
   "codemirror_mode": {
    "name": "ipython",
    "version": 3
   },
   "file_extension": ".py",
   "mimetype": "text/x-python",
   "name": "python",
   "nbconvert_exporter": "python",
   "pygments_lexer": "ipython3",
   "version": "3.7.4"
  },
  "toc": {
   "base_numbering": 1,
   "nav_menu": {},
   "number_sections": false,
   "sideBar": true,
   "skip_h1_title": false,
   "title_cell": "Table of Contents",
   "title_sidebar": "Contents",
   "toc_cell": false,
   "toc_position": {},
   "toc_section_display": true,
   "toc_window_display": false
  }
 },
 "nbformat": 4,
 "nbformat_minor": 2
}
